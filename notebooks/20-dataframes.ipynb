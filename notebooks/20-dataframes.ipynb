{
 "cells": [
  {
   "cell_type": "markdown",
   "source": [
    "# DataFrames"
   ],
   "metadata": {}
  },
  {
   "cell_type": "markdown",
   "source": [
    "Julia has a general representation for `Tables` with different implementations. The most\n",
    "used package is [DataFrames.jl](https://dataframes.juliadata.org/). It takes advantage\n",
    "of Julia syntax to define certain operation."
   ],
   "metadata": {}
  },
  {
   "cell_type": "markdown",
   "source": [
    "## Define a DataFrame"
   ],
   "metadata": {}
  },
  {
   "outputs": [
    {
     "output_type": "execute_result",
     "data": {
      "text/plain": "\u001b[1m100×3 DataFrame\u001b[0m\n\u001b[1m Row \u001b[0m│\u001b[1m id    \u001b[0m\u001b[1m x         \u001b[0m\u001b[1m y          \u001b[0m\n     │\u001b[90m Int64 \u001b[0m\u001b[90m Float64   \u001b[0m\u001b[90m Float64    \u001b[0m\n─────┼──────────────────────────────\n   1 │     1  0.498434    0.527515\n   2 │     2  0.389721    1.69565\n   3 │     3  0.26454     1.67104\n   4 │     4  0.719424   -0.253313\n   5 │     5  0.676602    1.90599\n   6 │     6  0.184079    1.0981\n   7 │     7  0.46979    -0.490607\n   8 │     8  0.568002   -1.63391\n  ⋮  │   ⋮        ⋮          ⋮\n  94 │    94  0.441165   -0.0641805\n  95 │    95  0.531264   -1.55594\n  96 │    96  0.0985509   0.180975\n  97 │    97  0.677608    0.326288\n  98 │    98  0.105514    1.51786\n  99 │    99  0.258119   -0.537345\n 100 │   100  0.888894    0.37708\n\u001b[36m                     85 rows omitted\u001b[0m",
      "text/html": [
       "<div><div style = \"float: left;\"><span>100×3 DataFrame</span></div><div style = \"float: right;\"><span style = \"font-style: italic;\">75 rows omitted</span></div><div style = \"clear: both;\"></div></div><div class = \"data-frame\" style = \"overflow-x: scroll;\"><table class = \"data-frame\" style = \"margin-bottom: 6px;\"><thead><tr class = \"header\"><th class = \"rowNumber\" style = \"font-weight: bold; text-align: right;\">Row</th><th style = \"text-align: left;\">id</th><th style = \"text-align: left;\">x</th><th style = \"text-align: left;\">y</th></tr><tr class = \"subheader headerLastRow\"><th class = \"rowNumber\" style = \"font-weight: bold; text-align: right;\"></th><th title = \"Int64\" style = \"text-align: left;\">Int64</th><th title = \"Float64\" style = \"text-align: left;\">Float64</th><th title = \"Float64\" style = \"text-align: left;\">Float64</th></tr></thead><tbody><tr><td class = \"rowNumber\" style = \"font-weight: bold; text-align: right;\">1</td><td style = \"text-align: right;\">1</td><td style = \"text-align: right;\">0.498434</td><td style = \"text-align: right;\">0.527515</td></tr><tr><td class = \"rowNumber\" style = \"font-weight: bold; text-align: right;\">2</td><td style = \"text-align: right;\">2</td><td style = \"text-align: right;\">0.389721</td><td style = \"text-align: right;\">1.69565</td></tr><tr><td class = \"rowNumber\" style = \"font-weight: bold; text-align: right;\">3</td><td style = \"text-align: right;\">3</td><td style = \"text-align: right;\">0.26454</td><td style = \"text-align: right;\">1.67104</td></tr><tr><td class = \"rowNumber\" style = \"font-weight: bold; text-align: right;\">4</td><td style = \"text-align: right;\">4</td><td style = \"text-align: right;\">0.719424</td><td style = \"text-align: right;\">-0.253313</td></tr><tr><td class = \"rowNumber\" style = \"font-weight: bold; text-align: right;\">5</td><td style = \"text-align: right;\">5</td><td style = \"text-align: right;\">0.676602</td><td style = \"text-align: right;\">1.90599</td></tr><tr><td class = \"rowNumber\" style = \"font-weight: bold; text-align: right;\">6</td><td style = \"text-align: right;\">6</td><td style = \"text-align: right;\">0.184079</td><td style = \"text-align: right;\">1.0981</td></tr><tr><td class = \"rowNumber\" style = \"font-weight: bold; text-align: right;\">7</td><td style = \"text-align: right;\">7</td><td style = \"text-align: right;\">0.46979</td><td style = \"text-align: right;\">-0.490607</td></tr><tr><td class = \"rowNumber\" style = \"font-weight: bold; text-align: right;\">8</td><td style = \"text-align: right;\">8</td><td style = \"text-align: right;\">0.568002</td><td style = \"text-align: right;\">-1.63391</td></tr><tr><td class = \"rowNumber\" style = \"font-weight: bold; text-align: right;\">9</td><td style = \"text-align: right;\">9</td><td style = \"text-align: right;\">0.51084</td><td style = \"text-align: right;\">0.526118</td></tr><tr><td class = \"rowNumber\" style = \"font-weight: bold; text-align: right;\">10</td><td style = \"text-align: right;\">10</td><td style = \"text-align: right;\">0.350315</td><td style = \"text-align: right;\">-1.75928</td></tr><tr><td class = \"rowNumber\" style = \"font-weight: bold; text-align: right;\">11</td><td style = \"text-align: right;\">11</td><td style = \"text-align: right;\">0.939279</td><td style = \"text-align: right;\">-0.434014</td></tr><tr><td class = \"rowNumber\" style = \"font-weight: bold; text-align: right;\">12</td><td style = \"text-align: right;\">12</td><td style = \"text-align: right;\">0.164889</td><td style = \"text-align: right;\">0.780157</td></tr><tr><td class = \"rowNumber\" style = \"font-weight: bold; text-align: right;\">13</td><td style = \"text-align: right;\">13</td><td style = \"text-align: right;\">0.883069</td><td style = \"text-align: right;\">0.0931702</td></tr><tr><td style = \"text-align: right;\">&vellip;</td><td style = \"text-align: right;\">&vellip;</td><td style = \"text-align: right;\">&vellip;</td><td style = \"text-align: right;\">&vellip;</td></tr><tr><td class = \"rowNumber\" style = \"font-weight: bold; text-align: right;\">89</td><td style = \"text-align: right;\">89</td><td style = \"text-align: right;\">0.0307357</td><td style = \"text-align: right;\">-1.04739</td></tr><tr><td class = \"rowNumber\" style = \"font-weight: bold; text-align: right;\">90</td><td style = \"text-align: right;\">90</td><td style = \"text-align: right;\">0.142126</td><td style = \"text-align: right;\">0.56028</td></tr><tr><td class = \"rowNumber\" style = \"font-weight: bold; text-align: right;\">91</td><td style = \"text-align: right;\">91</td><td style = \"text-align: right;\">0.849497</td><td style = \"text-align: right;\">0.996262</td></tr><tr><td class = \"rowNumber\" style = \"font-weight: bold; text-align: right;\">92</td><td style = \"text-align: right;\">92</td><td style = \"text-align: right;\">0.505502</td><td style = \"text-align: right;\">-0.134088</td></tr><tr><td class = \"rowNumber\" style = \"font-weight: bold; text-align: right;\">93</td><td style = \"text-align: right;\">93</td><td style = \"text-align: right;\">0.201993</td><td style = \"text-align: right;\">-0.358279</td></tr><tr><td class = \"rowNumber\" style = \"font-weight: bold; text-align: right;\">94</td><td style = \"text-align: right;\">94</td><td style = \"text-align: right;\">0.441165</td><td style = \"text-align: right;\">-0.0641805</td></tr><tr><td class = \"rowNumber\" style = \"font-weight: bold; text-align: right;\">95</td><td style = \"text-align: right;\">95</td><td style = \"text-align: right;\">0.531264</td><td style = \"text-align: right;\">-1.55594</td></tr><tr><td class = \"rowNumber\" style = \"font-weight: bold; text-align: right;\">96</td><td style = \"text-align: right;\">96</td><td style = \"text-align: right;\">0.0985509</td><td style = \"text-align: right;\">0.180975</td></tr><tr><td class = \"rowNumber\" style = \"font-weight: bold; text-align: right;\">97</td><td style = \"text-align: right;\">97</td><td style = \"text-align: right;\">0.677608</td><td style = \"text-align: right;\">0.326288</td></tr><tr><td class = \"rowNumber\" style = \"font-weight: bold; text-align: right;\">98</td><td style = \"text-align: right;\">98</td><td style = \"text-align: right;\">0.105514</td><td style = \"text-align: right;\">1.51786</td></tr><tr><td class = \"rowNumber\" style = \"font-weight: bold; text-align: right;\">99</td><td style = \"text-align: right;\">99</td><td style = \"text-align: right;\">0.258119</td><td style = \"text-align: right;\">-0.537345</td></tr><tr><td class = \"rowNumber\" style = \"font-weight: bold; text-align: right;\">100</td><td style = \"text-align: right;\">100</td><td style = \"text-align: right;\">0.888894</td><td style = \"text-align: right;\">0.37708</td></tr></tbody></table></div>"
      ]
     },
     "metadata": {},
     "execution_count": 1
    }
   ],
   "cell_type": "code",
   "source": [
    "using DataFrames\n",
    "import Random\n",
    "\n",
    "Random.seed!(11)\n",
    "n = 100\n",
    "data = DataFrame(id = 1:n, x = rand(n), y = randn(n))"
   ],
   "metadata": {},
   "execution_count": 1
  },
  {
   "cell_type": "markdown",
   "source": [
    "## Subsetting"
   ],
   "metadata": {}
  },
  {
   "cell_type": "markdown",
   "source": [
    "Let's select a column without doing a copy:"
   ],
   "metadata": {}
  },
  {
   "outputs": [
    {
     "output_type": "execute_result",
     "data": {
      "text/plain": "100-element Vector{Int64}:\n   1\n   2\n   3\n   4\n   5\n   6\n   7\n   8\n   9\n  10\n   ⋮\n  92\n  93\n  94\n  95\n  96\n  97\n  98\n  99\n 100"
     },
     "metadata": {},
     "execution_count": 2
    }
   ],
   "cell_type": "code",
   "source": [
    "data.id"
   ],
   "metadata": {},
   "execution_count": 2
  },
  {
   "outputs": [
    {
     "output_type": "execute_result",
     "data": {
      "text/plain": "100-element Vector{Int64}:\n   1\n   2\n   3\n   4\n   5\n   6\n   7\n   8\n   9\n  10\n   ⋮\n  92\n  93\n  94\n  95\n  96\n  97\n  98\n  99\n 100"
     },
     "metadata": {},
     "execution_count": 3
    }
   ],
   "cell_type": "code",
   "source": [
    "data[!, :id]"
   ],
   "metadata": {},
   "execution_count": 3
  },
  {
   "cell_type": "markdown",
   "source": [
    "Modifications on these columns will be reflected in the original data."
   ],
   "metadata": {}
  },
  {
   "outputs": [
    {
     "output_type": "execute_result",
     "data": {
      "text/plain": "100-element Vector{Float64}:\n 0.49843398493613866\n 0.3897206442798764\n 0.26454039637865223\n 0.7194237171475113\n 0.6766024102635798\n 0.1840786120276101\n 0.4697903183183523\n 0.5680018585914868\n 0.5108399240545426\n 0.3503150251639139\n ⋮\n 0.5055020246950553\n 0.20199332879192944\n 0.4411645679023518\n 0.5312642809575425\n 0.0985509072108206\n 0.6776076972596555\n 0.10551392206669663\n 0.2581188423585902\n 0.8888936999885325"
     },
     "metadata": {},
     "execution_count": 4
    }
   ],
   "cell_type": "code",
   "source": [
    "xaux = data.x"
   ],
   "metadata": {},
   "execution_count": 4
  },
  {
   "outputs": [
    {
     "output_type": "execute_result",
     "data": {
      "text/plain": "100"
     },
     "metadata": {},
     "execution_count": 5
    }
   ],
   "cell_type": "code",
   "source": [
    "xaux[1] = 100"
   ],
   "metadata": {},
   "execution_count": 5
  },
  {
   "outputs": [
    {
     "output_type": "execute_result",
     "data": {
      "text/plain": "\u001b[1m2×3 DataFrame\u001b[0m\n\u001b[1m Row \u001b[0m│\u001b[1m id    \u001b[0m\u001b[1m x          \u001b[0m\u001b[1m y        \u001b[0m\n     │\u001b[90m Int64 \u001b[0m\u001b[90m Float64    \u001b[0m\u001b[90m Float64  \u001b[0m\n─────┼─────────────────────────────\n   1 │     1  100.0       0.527515\n   2 │     2    0.389721  1.69565",
      "text/html": [
       "<div><div style = \"float: left;\"><span>2×3 DataFrame</span></div><div style = \"clear: both;\"></div></div><div class = \"data-frame\" style = \"overflow-x: scroll;\"><table class = \"data-frame\" style = \"margin-bottom: 6px;\"><thead><tr class = \"header\"><th class = \"rowNumber\" style = \"font-weight: bold; text-align: right;\">Row</th><th style = \"text-align: left;\">id</th><th style = \"text-align: left;\">x</th><th style = \"text-align: left;\">y</th></tr><tr class = \"subheader headerLastRow\"><th class = \"rowNumber\" style = \"font-weight: bold; text-align: right;\"></th><th title = \"Int64\" style = \"text-align: left;\">Int64</th><th title = \"Float64\" style = \"text-align: left;\">Float64</th><th title = \"Float64\" style = \"text-align: left;\">Float64</th></tr></thead><tbody><tr><td class = \"rowNumber\" style = \"font-weight: bold; text-align: right;\">1</td><td style = \"text-align: right;\">1</td><td style = \"text-align: right;\">100.0</td><td style = \"text-align: right;\">0.527515</td></tr><tr><td class = \"rowNumber\" style = \"font-weight: bold; text-align: right;\">2</td><td style = \"text-align: right;\">2</td><td style = \"text-align: right;\">0.389721</td><td style = \"text-align: right;\">1.69565</td></tr></tbody></table></div>"
      ]
     },
     "metadata": {},
     "execution_count": 6
    }
   ],
   "cell_type": "code",
   "source": [
    "first(data, 2)"
   ],
   "metadata": {},
   "execution_count": 6
  },
  {
   "cell_type": "markdown",
   "source": [
    "A copy of a column is created as folows:"
   ],
   "metadata": {}
  },
  {
   "outputs": [
    {
     "output_type": "execute_result",
     "data": {
      "text/plain": "100-element Vector{Float64}:\n 100.0\n   0.3897206442798764\n   0.26454039637865223\n   0.7194237171475113\n   0.6766024102635798\n   0.1840786120276101\n   0.4697903183183523\n   0.5680018585914868\n   0.5108399240545426\n   0.3503150251639139\n   ⋮\n   0.5055020246950553\n   0.20199332879192944\n   0.4411645679023518\n   0.5312642809575425\n   0.0985509072108206\n   0.6776076972596555\n   0.10551392206669663\n   0.2581188423585902\n   0.8888936999885325"
     },
     "metadata": {},
     "execution_count": 7
    }
   ],
   "cell_type": "code",
   "source": [
    "xaux = data[:, :x]"
   ],
   "metadata": {},
   "execution_count": 7
  },
  {
   "outputs": [
    {
     "output_type": "execute_result",
     "data": {
      "text/plain": "10"
     },
     "metadata": {},
     "execution_count": 8
    }
   ],
   "cell_type": "code",
   "source": [
    "xaux[1] = 10"
   ],
   "metadata": {},
   "execution_count": 8
  },
  {
   "outputs": [
    {
     "output_type": "execute_result",
     "data": {
      "text/plain": "\u001b[1m2×3 DataFrame\u001b[0m\n\u001b[1m Row \u001b[0m│\u001b[1m id    \u001b[0m\u001b[1m x          \u001b[0m\u001b[1m y        \u001b[0m\n     │\u001b[90m Int64 \u001b[0m\u001b[90m Float64    \u001b[0m\u001b[90m Float64  \u001b[0m\n─────┼─────────────────────────────\n   1 │     1  100.0       0.527515\n   2 │     2    0.389721  1.69565",
      "text/html": [
       "<div><div style = \"float: left;\"><span>2×3 DataFrame</span></div><div style = \"clear: both;\"></div></div><div class = \"data-frame\" style = \"overflow-x: scroll;\"><table class = \"data-frame\" style = \"margin-bottom: 6px;\"><thead><tr class = \"header\"><th class = \"rowNumber\" style = \"font-weight: bold; text-align: right;\">Row</th><th style = \"text-align: left;\">id</th><th style = \"text-align: left;\">x</th><th style = \"text-align: left;\">y</th></tr><tr class = \"subheader headerLastRow\"><th class = \"rowNumber\" style = \"font-weight: bold; text-align: right;\"></th><th title = \"Int64\" style = \"text-align: left;\">Int64</th><th title = \"Float64\" style = \"text-align: left;\">Float64</th><th title = \"Float64\" style = \"text-align: left;\">Float64</th></tr></thead><tbody><tr><td class = \"rowNumber\" style = \"font-weight: bold; text-align: right;\">1</td><td style = \"text-align: right;\">1</td><td style = \"text-align: right;\">100.0</td><td style = \"text-align: right;\">0.527515</td></tr><tr><td class = \"rowNumber\" style = \"font-weight: bold; text-align: right;\">2</td><td style = \"text-align: right;\">2</td><td style = \"text-align: right;\">0.389721</td><td style = \"text-align: right;\">1.69565</td></tr></tbody></table></div>"
      ]
     },
     "metadata": {},
     "execution_count": 9
    }
   ],
   "cell_type": "code",
   "source": [
    "first(data, 2)"
   ],
   "metadata": {},
   "execution_count": 9
  },
  {
   "cell_type": "markdown",
   "source": [
    "More specific subsetting can be done with:"
   ],
   "metadata": {}
  },
  {
   "outputs": [
    {
     "output_type": "execute_result",
     "data": {
      "text/plain": "10-element Vector{Int64}:\n  1\n  2\n  3\n  4\n  5\n  6\n  7\n  8\n  9\n 10"
     },
     "metadata": {},
     "execution_count": 10
    }
   ],
   "cell_type": "code",
   "source": [
    "data.id[1:10]"
   ],
   "metadata": {},
   "execution_count": 10
  },
  {
   "outputs": [
    {
     "output_type": "execute_result",
     "data": {
      "text/plain": "11-element Vector{Int64}:\n  90\n  91\n  92\n  93\n  94\n  95\n  96\n  97\n  98\n  99\n 100"
     },
     "metadata": {},
     "execution_count": 11
    }
   ],
   "cell_type": "code",
   "source": [
    "data.id[90:end]"
   ],
   "metadata": {},
   "execution_count": 11
  },
  {
   "outputs": [
    {
     "output_type": "execute_result",
     "data": {
      "text/plain": "\u001b[1m10×2 DataFrame\u001b[0m\n\u001b[1m Row \u001b[0m│\u001b[1m id    \u001b[0m\u001b[1m x          \u001b[0m\n     │\u001b[90m Int64 \u001b[0m\u001b[90m Float64    \u001b[0m\n─────┼───────────────────\n   1 │     1  100.0\n   2 │     2    0.389721\n   3 │     3    0.26454\n   4 │     4    0.719424\n   5 │     5    0.676602\n   6 │     6    0.184079\n   7 │     7    0.46979\n   8 │     8    0.568002\n   9 │     9    0.51084\n  10 │    10    0.350315",
      "text/html": [
       "<div><div style = \"float: left;\"><span>10×2 DataFrame</span></div><div style = \"clear: both;\"></div></div><div class = \"data-frame\" style = \"overflow-x: scroll;\"><table class = \"data-frame\" style = \"margin-bottom: 6px;\"><thead><tr class = \"header\"><th class = \"rowNumber\" style = \"font-weight: bold; text-align: right;\">Row</th><th style = \"text-align: left;\">id</th><th style = \"text-align: left;\">x</th></tr><tr class = \"subheader headerLastRow\"><th class = \"rowNumber\" style = \"font-weight: bold; text-align: right;\"></th><th title = \"Int64\" style = \"text-align: left;\">Int64</th><th title = \"Float64\" style = \"text-align: left;\">Float64</th></tr></thead><tbody><tr><td class = \"rowNumber\" style = \"font-weight: bold; text-align: right;\">1</td><td style = \"text-align: right;\">1</td><td style = \"text-align: right;\">100.0</td></tr><tr><td class = \"rowNumber\" style = \"font-weight: bold; text-align: right;\">2</td><td style = \"text-align: right;\">2</td><td style = \"text-align: right;\">0.389721</td></tr><tr><td class = \"rowNumber\" style = \"font-weight: bold; text-align: right;\">3</td><td style = \"text-align: right;\">3</td><td style = \"text-align: right;\">0.26454</td></tr><tr><td class = \"rowNumber\" style = \"font-weight: bold; text-align: right;\">4</td><td style = \"text-align: right;\">4</td><td style = \"text-align: right;\">0.719424</td></tr><tr><td class = \"rowNumber\" style = \"font-weight: bold; text-align: right;\">5</td><td style = \"text-align: right;\">5</td><td style = \"text-align: right;\">0.676602</td></tr><tr><td class = \"rowNumber\" style = \"font-weight: bold; text-align: right;\">6</td><td style = \"text-align: right;\">6</td><td style = \"text-align: right;\">0.184079</td></tr><tr><td class = \"rowNumber\" style = \"font-weight: bold; text-align: right;\">7</td><td style = \"text-align: right;\">7</td><td style = \"text-align: right;\">0.46979</td></tr><tr><td class = \"rowNumber\" style = \"font-weight: bold; text-align: right;\">8</td><td style = \"text-align: right;\">8</td><td style = \"text-align: right;\">0.568002</td></tr><tr><td class = \"rowNumber\" style = \"font-weight: bold; text-align: right;\">9</td><td style = \"text-align: right;\">9</td><td style = \"text-align: right;\">0.51084</td></tr><tr><td class = \"rowNumber\" style = \"font-weight: bold; text-align: right;\">10</td><td style = \"text-align: right;\">10</td><td style = \"text-align: right;\">0.350315</td></tr></tbody></table></div>"
      ]
     },
     "metadata": {},
     "execution_count": 12
    }
   ],
   "cell_type": "code",
   "source": [
    "data[1:10, 1:2]"
   ],
   "metadata": {},
   "execution_count": 12
  },
  {
   "cell_type": "markdown",
   "source": [
    "You can also create a view that references to you DataFrame:"
   ],
   "metadata": {}
  },
  {
   "outputs": [
    {
     "output_type": "execute_result",
     "data": {
      "text/plain": "\u001b[1m2×3 DataFrame\u001b[0m\n\u001b[1m Row \u001b[0m│\u001b[1m id    \u001b[0m\u001b[1m x        \u001b[0m\u001b[1m y        \u001b[0m\n     │\u001b[90m Int64 \u001b[0m\u001b[90m Float64  \u001b[0m\u001b[90m Float64  \u001b[0m\n─────┼───────────────────────────\n   1 │     1  0.28589   0.527515\n   2 │     2  0.389721  1.69565",
      "text/html": [
       "<div><div style = \"float: left;\"><span>2×3 DataFrame</span></div><div style = \"clear: both;\"></div></div><div class = \"data-frame\" style = \"overflow-x: scroll;\"><table class = \"data-frame\" style = \"margin-bottom: 6px;\"><thead><tr class = \"header\"><th class = \"rowNumber\" style = \"font-weight: bold; text-align: right;\">Row</th><th style = \"text-align: left;\">id</th><th style = \"text-align: left;\">x</th><th style = \"text-align: left;\">y</th></tr><tr class = \"subheader headerLastRow\"><th class = \"rowNumber\" style = \"font-weight: bold; text-align: right;\"></th><th title = \"Int64\" style = \"text-align: left;\">Int64</th><th title = \"Float64\" style = \"text-align: left;\">Float64</th><th title = \"Float64\" style = \"text-align: left;\">Float64</th></tr></thead><tbody><tr><td class = \"rowNumber\" style = \"font-weight: bold; text-align: right;\">1</td><td style = \"text-align: right;\">1</td><td style = \"text-align: right;\">0.28589</td><td style = \"text-align: right;\">0.527515</td></tr><tr><td class = \"rowNumber\" style = \"font-weight: bold; text-align: right;\">2</td><td style = \"text-align: right;\">2</td><td style = \"text-align: right;\">0.389721</td><td style = \"text-align: right;\">1.69565</td></tr></tbody></table></div>"
      ]
     },
     "metadata": {},
     "execution_count": 13
    }
   ],
   "cell_type": "code",
   "source": [
    "subdata = view(data, 1:10, 1:3)\n",
    "subdata.x[1] = rand()\n",
    "first(data, 2)"
   ],
   "metadata": {},
   "execution_count": 13
  },
  {
   "cell_type": "markdown",
   "source": [
    "## Transform variables"
   ],
   "metadata": {}
  },
  {
   "cell_type": "markdown",
   "source": [
    "To perform operations over columns, we use the `Pair` syntax:"
   ],
   "metadata": {}
  },
  {
   "outputs": [
    {
     "output_type": "execute_result",
     "data": {
      "text/plain": "\u001b[1m100×4 DataFrame\u001b[0m\n\u001b[1m Row \u001b[0m│\u001b[1m id    \u001b[0m\u001b[1m x         \u001b[0m\u001b[1m y          \u001b[0m\u001b[1m x_function \u001b[0m\n     │\u001b[90m Int64 \u001b[0m\u001b[90m Float64   \u001b[0m\u001b[90m Float64    \u001b[0m\u001b[90m Float64    \u001b[0m\n─────┼──────────────────────────────────────────\n   1 │     1  0.28589     0.527515   0.0817333\n   2 │     2  0.389721    1.69565    0.151882\n   3 │     3  0.26454     1.67104    0.0699816\n   4 │     4  0.719424   -0.253313   0.51757\n   5 │     5  0.676602    1.90599    0.457791\n   6 │     6  0.184079    1.0981     0.0338849\n   7 │     7  0.46979    -0.490607   0.220703\n   8 │     8  0.568002   -1.63391    0.322626\n  ⋮  │   ⋮        ⋮          ⋮           ⋮\n  94 │    94  0.441165   -0.0641805  0.194626\n  95 │    95  0.531264   -1.55594    0.282242\n  96 │    96  0.0985509   0.180975   0.00971228\n  97 │    97  0.677608    0.326288   0.459152\n  98 │    98  0.105514    1.51786    0.0111332\n  99 │    99  0.258119   -0.537345   0.0666253\n 100 │   100  0.888894    0.37708    0.790132\n\u001b[36m                                 85 rows omitted\u001b[0m",
      "text/html": [
       "<div><div style = \"float: left;\"><span>100×4 DataFrame</span></div><div style = \"float: right;\"><span style = \"font-style: italic;\">75 rows omitted</span></div><div style = \"clear: both;\"></div></div><div class = \"data-frame\" style = \"overflow-x: scroll;\"><table class = \"data-frame\" style = \"margin-bottom: 6px;\"><thead><tr class = \"header\"><th class = \"rowNumber\" style = \"font-weight: bold; text-align: right;\">Row</th><th style = \"text-align: left;\">id</th><th style = \"text-align: left;\">x</th><th style = \"text-align: left;\">y</th><th style = \"text-align: left;\">x_function</th></tr><tr class = \"subheader headerLastRow\"><th class = \"rowNumber\" style = \"font-weight: bold; text-align: right;\"></th><th title = \"Int64\" style = \"text-align: left;\">Int64</th><th title = \"Float64\" style = \"text-align: left;\">Float64</th><th title = \"Float64\" style = \"text-align: left;\">Float64</th><th title = \"Float64\" style = \"text-align: left;\">Float64</th></tr></thead><tbody><tr><td class = \"rowNumber\" style = \"font-weight: bold; text-align: right;\">1</td><td style = \"text-align: right;\">1</td><td style = \"text-align: right;\">0.28589</td><td style = \"text-align: right;\">0.527515</td><td style = \"text-align: right;\">0.0817333</td></tr><tr><td class = \"rowNumber\" style = \"font-weight: bold; text-align: right;\">2</td><td style = \"text-align: right;\">2</td><td style = \"text-align: right;\">0.389721</td><td style = \"text-align: right;\">1.69565</td><td style = \"text-align: right;\">0.151882</td></tr><tr><td class = \"rowNumber\" style = \"font-weight: bold; text-align: right;\">3</td><td style = \"text-align: right;\">3</td><td style = \"text-align: right;\">0.26454</td><td style = \"text-align: right;\">1.67104</td><td style = \"text-align: right;\">0.0699816</td></tr><tr><td class = \"rowNumber\" style = \"font-weight: bold; text-align: right;\">4</td><td style = \"text-align: right;\">4</td><td style = \"text-align: right;\">0.719424</td><td style = \"text-align: right;\">-0.253313</td><td style = \"text-align: right;\">0.51757</td></tr><tr><td class = \"rowNumber\" style = \"font-weight: bold; text-align: right;\">5</td><td style = \"text-align: right;\">5</td><td style = \"text-align: right;\">0.676602</td><td style = \"text-align: right;\">1.90599</td><td style = \"text-align: right;\">0.457791</td></tr><tr><td class = \"rowNumber\" style = \"font-weight: bold; text-align: right;\">6</td><td style = \"text-align: right;\">6</td><td style = \"text-align: right;\">0.184079</td><td style = \"text-align: right;\">1.0981</td><td style = \"text-align: right;\">0.0338849</td></tr><tr><td class = \"rowNumber\" style = \"font-weight: bold; text-align: right;\">7</td><td style = \"text-align: right;\">7</td><td style = \"text-align: right;\">0.46979</td><td style = \"text-align: right;\">-0.490607</td><td style = \"text-align: right;\">0.220703</td></tr><tr><td class = \"rowNumber\" style = \"font-weight: bold; text-align: right;\">8</td><td style = \"text-align: right;\">8</td><td style = \"text-align: right;\">0.568002</td><td style = \"text-align: right;\">-1.63391</td><td style = \"text-align: right;\">0.322626</td></tr><tr><td class = \"rowNumber\" style = \"font-weight: bold; text-align: right;\">9</td><td style = \"text-align: right;\">9</td><td style = \"text-align: right;\">0.51084</td><td style = \"text-align: right;\">0.526118</td><td style = \"text-align: right;\">0.260957</td></tr><tr><td class = \"rowNumber\" style = \"font-weight: bold; text-align: right;\">10</td><td style = \"text-align: right;\">10</td><td style = \"text-align: right;\">0.350315</td><td style = \"text-align: right;\">-1.75928</td><td style = \"text-align: right;\">0.122721</td></tr><tr><td class = \"rowNumber\" style = \"font-weight: bold; text-align: right;\">11</td><td style = \"text-align: right;\">11</td><td style = \"text-align: right;\">0.939279</td><td style = \"text-align: right;\">-0.434014</td><td style = \"text-align: right;\">0.882244</td></tr><tr><td class = \"rowNumber\" style = \"font-weight: bold; text-align: right;\">12</td><td style = \"text-align: right;\">12</td><td style = \"text-align: right;\">0.164889</td><td style = \"text-align: right;\">0.780157</td><td style = \"text-align: right;\">0.0271884</td></tr><tr><td class = \"rowNumber\" style = \"font-weight: bold; text-align: right;\">13</td><td style = \"text-align: right;\">13</td><td style = \"text-align: right;\">0.883069</td><td style = \"text-align: right;\">0.0931702</td><td style = \"text-align: right;\">0.779811</td></tr><tr><td style = \"text-align: right;\">&vellip;</td><td style = \"text-align: right;\">&vellip;</td><td style = \"text-align: right;\">&vellip;</td><td style = \"text-align: right;\">&vellip;</td><td style = \"text-align: right;\">&vellip;</td></tr><tr><td class = \"rowNumber\" style = \"font-weight: bold; text-align: right;\">89</td><td style = \"text-align: right;\">89</td><td style = \"text-align: right;\">0.0307357</td><td style = \"text-align: right;\">-1.04739</td><td style = \"text-align: right;\">0.000944685</td></tr><tr><td class = \"rowNumber\" style = \"font-weight: bold; text-align: right;\">90</td><td style = \"text-align: right;\">90</td><td style = \"text-align: right;\">0.142126</td><td style = \"text-align: right;\">0.56028</td><td style = \"text-align: right;\">0.0201997</td></tr><tr><td class = \"rowNumber\" style = \"font-weight: bold; text-align: right;\">91</td><td style = \"text-align: right;\">91</td><td style = \"text-align: right;\">0.849497</td><td style = \"text-align: right;\">0.996262</td><td style = \"text-align: right;\">0.721646</td></tr><tr><td class = \"rowNumber\" style = \"font-weight: bold; text-align: right;\">92</td><td style = \"text-align: right;\">92</td><td style = \"text-align: right;\">0.505502</td><td style = \"text-align: right;\">-0.134088</td><td style = \"text-align: right;\">0.255532</td></tr><tr><td class = \"rowNumber\" style = \"font-weight: bold; text-align: right;\">93</td><td style = \"text-align: right;\">93</td><td style = \"text-align: right;\">0.201993</td><td style = \"text-align: right;\">-0.358279</td><td style = \"text-align: right;\">0.0408013</td></tr><tr><td class = \"rowNumber\" style = \"font-weight: bold; text-align: right;\">94</td><td style = \"text-align: right;\">94</td><td style = \"text-align: right;\">0.441165</td><td style = \"text-align: right;\">-0.0641805</td><td style = \"text-align: right;\">0.194626</td></tr><tr><td class = \"rowNumber\" style = \"font-weight: bold; text-align: right;\">95</td><td style = \"text-align: right;\">95</td><td style = \"text-align: right;\">0.531264</td><td style = \"text-align: right;\">-1.55594</td><td style = \"text-align: right;\">0.282242</td></tr><tr><td class = \"rowNumber\" style = \"font-weight: bold; text-align: right;\">96</td><td style = \"text-align: right;\">96</td><td style = \"text-align: right;\">0.0985509</td><td style = \"text-align: right;\">0.180975</td><td style = \"text-align: right;\">0.00971228</td></tr><tr><td class = \"rowNumber\" style = \"font-weight: bold; text-align: right;\">97</td><td style = \"text-align: right;\">97</td><td style = \"text-align: right;\">0.677608</td><td style = \"text-align: right;\">0.326288</td><td style = \"text-align: right;\">0.459152</td></tr><tr><td class = \"rowNumber\" style = \"font-weight: bold; text-align: right;\">98</td><td style = \"text-align: right;\">98</td><td style = \"text-align: right;\">0.105514</td><td style = \"text-align: right;\">1.51786</td><td style = \"text-align: right;\">0.0111332</td></tr><tr><td class = \"rowNumber\" style = \"font-weight: bold; text-align: right;\">99</td><td style = \"text-align: right;\">99</td><td style = \"text-align: right;\">0.258119</td><td style = \"text-align: right;\">-0.537345</td><td style = \"text-align: right;\">0.0666253</td></tr><tr><td class = \"rowNumber\" style = \"font-weight: bold; text-align: right;\">100</td><td style = \"text-align: right;\">100</td><td style = \"text-align: right;\">0.888894</td><td style = \"text-align: right;\">0.37708</td><td style = \"text-align: right;\">0.790132</td></tr></tbody></table></div>"
      ]
     },
     "metadata": {},
     "execution_count": 14
    }
   ],
   "cell_type": "code",
   "source": [
    "transform(data, :x => (z -> z .^ 2))"
   ],
   "metadata": {},
   "execution_count": 14
  },
  {
   "outputs": [
    {
     "output_type": "execute_result",
     "data": {
      "text/plain": "Pair{Symbol, Main.var\"##235\".var\"#3#4\"}"
     },
     "metadata": {},
     "execution_count": 15
    }
   ],
   "cell_type": "code",
   "source": [
    "typeof(:x => (z -> z .^ 2))"
   ],
   "metadata": {},
   "execution_count": 15
  },
  {
   "cell_type": "markdown",
   "source": [
    "We can explicitly provide the output name:"
   ],
   "metadata": {}
  },
  {
   "outputs": [
    {
     "output_type": "execute_result",
     "data": {
      "text/plain": "\u001b[1m100×4 DataFrame\u001b[0m\n\u001b[1m Row \u001b[0m│\u001b[1m id    \u001b[0m\u001b[1m x         \u001b[0m\u001b[1m y          \u001b[0m\u001b[1m x2         \u001b[0m\n     │\u001b[90m Int64 \u001b[0m\u001b[90m Float64   \u001b[0m\u001b[90m Float64    \u001b[0m\u001b[90m Float64    \u001b[0m\n─────┼──────────────────────────────────────────\n   1 │     1  0.28589     0.527515   0.0817333\n   2 │     2  0.389721    1.69565    0.151882\n   3 │     3  0.26454     1.67104    0.0699816\n   4 │     4  0.719424   -0.253313   0.51757\n   5 │     5  0.676602    1.90599    0.457791\n   6 │     6  0.184079    1.0981     0.0338849\n   7 │     7  0.46979    -0.490607   0.220703\n   8 │     8  0.568002   -1.63391    0.322626\n  ⋮  │   ⋮        ⋮          ⋮           ⋮\n  94 │    94  0.441165   -0.0641805  0.194626\n  95 │    95  0.531264   -1.55594    0.282242\n  96 │    96  0.0985509   0.180975   0.00971228\n  97 │    97  0.677608    0.326288   0.459152\n  98 │    98  0.105514    1.51786    0.0111332\n  99 │    99  0.258119   -0.537345   0.0666253\n 100 │   100  0.888894    0.37708    0.790132\n\u001b[36m                                 85 rows omitted\u001b[0m",
      "text/html": [
       "<div><div style = \"float: left;\"><span>100×4 DataFrame</span></div><div style = \"float: right;\"><span style = \"font-style: italic;\">75 rows omitted</span></div><div style = \"clear: both;\"></div></div><div class = \"data-frame\" style = \"overflow-x: scroll;\"><table class = \"data-frame\" style = \"margin-bottom: 6px;\"><thead><tr class = \"header\"><th class = \"rowNumber\" style = \"font-weight: bold; text-align: right;\">Row</th><th style = \"text-align: left;\">id</th><th style = \"text-align: left;\">x</th><th style = \"text-align: left;\">y</th><th style = \"text-align: left;\">x2</th></tr><tr class = \"subheader headerLastRow\"><th class = \"rowNumber\" style = \"font-weight: bold; text-align: right;\"></th><th title = \"Int64\" style = \"text-align: left;\">Int64</th><th title = \"Float64\" style = \"text-align: left;\">Float64</th><th title = \"Float64\" style = \"text-align: left;\">Float64</th><th title = \"Float64\" style = \"text-align: left;\">Float64</th></tr></thead><tbody><tr><td class = \"rowNumber\" style = \"font-weight: bold; text-align: right;\">1</td><td style = \"text-align: right;\">1</td><td style = \"text-align: right;\">0.28589</td><td style = \"text-align: right;\">0.527515</td><td style = \"text-align: right;\">0.0817333</td></tr><tr><td class = \"rowNumber\" style = \"font-weight: bold; text-align: right;\">2</td><td style = \"text-align: right;\">2</td><td style = \"text-align: right;\">0.389721</td><td style = \"text-align: right;\">1.69565</td><td style = \"text-align: right;\">0.151882</td></tr><tr><td class = \"rowNumber\" style = \"font-weight: bold; text-align: right;\">3</td><td style = \"text-align: right;\">3</td><td style = \"text-align: right;\">0.26454</td><td style = \"text-align: right;\">1.67104</td><td style = \"text-align: right;\">0.0699816</td></tr><tr><td class = \"rowNumber\" style = \"font-weight: bold; text-align: right;\">4</td><td style = \"text-align: right;\">4</td><td style = \"text-align: right;\">0.719424</td><td style = \"text-align: right;\">-0.253313</td><td style = \"text-align: right;\">0.51757</td></tr><tr><td class = \"rowNumber\" style = \"font-weight: bold; text-align: right;\">5</td><td style = \"text-align: right;\">5</td><td style = \"text-align: right;\">0.676602</td><td style = \"text-align: right;\">1.90599</td><td style = \"text-align: right;\">0.457791</td></tr><tr><td class = \"rowNumber\" style = \"font-weight: bold; text-align: right;\">6</td><td style = \"text-align: right;\">6</td><td style = \"text-align: right;\">0.184079</td><td style = \"text-align: right;\">1.0981</td><td style = \"text-align: right;\">0.0338849</td></tr><tr><td class = \"rowNumber\" style = \"font-weight: bold; text-align: right;\">7</td><td style = \"text-align: right;\">7</td><td style = \"text-align: right;\">0.46979</td><td style = \"text-align: right;\">-0.490607</td><td style = \"text-align: right;\">0.220703</td></tr><tr><td class = \"rowNumber\" style = \"font-weight: bold; text-align: right;\">8</td><td style = \"text-align: right;\">8</td><td style = \"text-align: right;\">0.568002</td><td style = \"text-align: right;\">-1.63391</td><td style = \"text-align: right;\">0.322626</td></tr><tr><td class = \"rowNumber\" style = \"font-weight: bold; text-align: right;\">9</td><td style = \"text-align: right;\">9</td><td style = \"text-align: right;\">0.51084</td><td style = \"text-align: right;\">0.526118</td><td style = \"text-align: right;\">0.260957</td></tr><tr><td class = \"rowNumber\" style = \"font-weight: bold; text-align: right;\">10</td><td style = \"text-align: right;\">10</td><td style = \"text-align: right;\">0.350315</td><td style = \"text-align: right;\">-1.75928</td><td style = \"text-align: right;\">0.122721</td></tr><tr><td class = \"rowNumber\" style = \"font-weight: bold; text-align: right;\">11</td><td style = \"text-align: right;\">11</td><td style = \"text-align: right;\">0.939279</td><td style = \"text-align: right;\">-0.434014</td><td style = \"text-align: right;\">0.882244</td></tr><tr><td class = \"rowNumber\" style = \"font-weight: bold; text-align: right;\">12</td><td style = \"text-align: right;\">12</td><td style = \"text-align: right;\">0.164889</td><td style = \"text-align: right;\">0.780157</td><td style = \"text-align: right;\">0.0271884</td></tr><tr><td class = \"rowNumber\" style = \"font-weight: bold; text-align: right;\">13</td><td style = \"text-align: right;\">13</td><td style = \"text-align: right;\">0.883069</td><td style = \"text-align: right;\">0.0931702</td><td style = \"text-align: right;\">0.779811</td></tr><tr><td style = \"text-align: right;\">&vellip;</td><td style = \"text-align: right;\">&vellip;</td><td style = \"text-align: right;\">&vellip;</td><td style = \"text-align: right;\">&vellip;</td><td style = \"text-align: right;\">&vellip;</td></tr><tr><td class = \"rowNumber\" style = \"font-weight: bold; text-align: right;\">89</td><td style = \"text-align: right;\">89</td><td style = \"text-align: right;\">0.0307357</td><td style = \"text-align: right;\">-1.04739</td><td style = \"text-align: right;\">0.000944685</td></tr><tr><td class = \"rowNumber\" style = \"font-weight: bold; text-align: right;\">90</td><td style = \"text-align: right;\">90</td><td style = \"text-align: right;\">0.142126</td><td style = \"text-align: right;\">0.56028</td><td style = \"text-align: right;\">0.0201997</td></tr><tr><td class = \"rowNumber\" style = \"font-weight: bold; text-align: right;\">91</td><td style = \"text-align: right;\">91</td><td style = \"text-align: right;\">0.849497</td><td style = \"text-align: right;\">0.996262</td><td style = \"text-align: right;\">0.721646</td></tr><tr><td class = \"rowNumber\" style = \"font-weight: bold; text-align: right;\">92</td><td style = \"text-align: right;\">92</td><td style = \"text-align: right;\">0.505502</td><td style = \"text-align: right;\">-0.134088</td><td style = \"text-align: right;\">0.255532</td></tr><tr><td class = \"rowNumber\" style = \"font-weight: bold; text-align: right;\">93</td><td style = \"text-align: right;\">93</td><td style = \"text-align: right;\">0.201993</td><td style = \"text-align: right;\">-0.358279</td><td style = \"text-align: right;\">0.0408013</td></tr><tr><td class = \"rowNumber\" style = \"font-weight: bold; text-align: right;\">94</td><td style = \"text-align: right;\">94</td><td style = \"text-align: right;\">0.441165</td><td style = \"text-align: right;\">-0.0641805</td><td style = \"text-align: right;\">0.194626</td></tr><tr><td class = \"rowNumber\" style = \"font-weight: bold; text-align: right;\">95</td><td style = \"text-align: right;\">95</td><td style = \"text-align: right;\">0.531264</td><td style = \"text-align: right;\">-1.55594</td><td style = \"text-align: right;\">0.282242</td></tr><tr><td class = \"rowNumber\" style = \"font-weight: bold; text-align: right;\">96</td><td style = \"text-align: right;\">96</td><td style = \"text-align: right;\">0.0985509</td><td style = \"text-align: right;\">0.180975</td><td style = \"text-align: right;\">0.00971228</td></tr><tr><td class = \"rowNumber\" style = \"font-weight: bold; text-align: right;\">97</td><td style = \"text-align: right;\">97</td><td style = \"text-align: right;\">0.677608</td><td style = \"text-align: right;\">0.326288</td><td style = \"text-align: right;\">0.459152</td></tr><tr><td class = \"rowNumber\" style = \"font-weight: bold; text-align: right;\">98</td><td style = \"text-align: right;\">98</td><td style = \"text-align: right;\">0.105514</td><td style = \"text-align: right;\">1.51786</td><td style = \"text-align: right;\">0.0111332</td></tr><tr><td class = \"rowNumber\" style = \"font-weight: bold; text-align: right;\">99</td><td style = \"text-align: right;\">99</td><td style = \"text-align: right;\">0.258119</td><td style = \"text-align: right;\">-0.537345</td><td style = \"text-align: right;\">0.0666253</td></tr><tr><td class = \"rowNumber\" style = \"font-weight: bold; text-align: right;\">100</td><td style = \"text-align: right;\">100</td><td style = \"text-align: right;\">0.888894</td><td style = \"text-align: right;\">0.37708</td><td style = \"text-align: right;\">0.790132</td></tr></tbody></table></div>"
      ]
     },
     "metadata": {},
     "execution_count": 16
    }
   ],
   "cell_type": "code",
   "source": [
    "transform(data, :x => (z -> z .^ 2) => :x2)"
   ],
   "metadata": {},
   "execution_count": 16
  },
  {
   "cell_type": "markdown",
   "source": [
    "We can also vectorize any function with `ByRow`:"
   ],
   "metadata": {}
  },
  {
   "outputs": [
    {
     "output_type": "execute_result",
     "data": {
      "text/plain": "\u001b[1m100×4 DataFrame\u001b[0m\n\u001b[1m Row \u001b[0m│\u001b[1m id    \u001b[0m\u001b[1m x         \u001b[0m\u001b[1m y          \u001b[0m\u001b[1m x_sqrt   \u001b[0m\n     │\u001b[90m Int64 \u001b[0m\u001b[90m Float64   \u001b[0m\u001b[90m Float64    \u001b[0m\u001b[90m Float64  \u001b[0m\n─────┼────────────────────────────────────────\n   1 │     1  0.28589     0.527515   0.534687\n   2 │     2  0.389721    1.69565    0.624276\n   3 │     3  0.26454     1.67104    0.514335\n   4 │     4  0.719424   -0.253313   0.848188\n   5 │     5  0.676602    1.90599    0.822558\n   6 │     6  0.184079    1.0981     0.429044\n   7 │     7  0.46979    -0.490607   0.685413\n   8 │     8  0.568002   -1.63391    0.753659\n  ⋮  │   ⋮        ⋮          ⋮          ⋮\n  94 │    94  0.441165   -0.0641805  0.664202\n  95 │    95  0.531264   -1.55594    0.728879\n  96 │    96  0.0985509   0.180975   0.313928\n  97 │    97  0.677608    0.326288   0.823169\n  98 │    98  0.105514    1.51786    0.324829\n  99 │    99  0.258119   -0.537345   0.508054\n 100 │   100  0.888894    0.37708    0.942812\n\u001b[36m                               85 rows omitted\u001b[0m",
      "text/html": [
       "<div><div style = \"float: left;\"><span>100×4 DataFrame</span></div><div style = \"float: right;\"><span style = \"font-style: italic;\">75 rows omitted</span></div><div style = \"clear: both;\"></div></div><div class = \"data-frame\" style = \"overflow-x: scroll;\"><table class = \"data-frame\" style = \"margin-bottom: 6px;\"><thead><tr class = \"header\"><th class = \"rowNumber\" style = \"font-weight: bold; text-align: right;\">Row</th><th style = \"text-align: left;\">id</th><th style = \"text-align: left;\">x</th><th style = \"text-align: left;\">y</th><th style = \"text-align: left;\">x_sqrt</th></tr><tr class = \"subheader headerLastRow\"><th class = \"rowNumber\" style = \"font-weight: bold; text-align: right;\"></th><th title = \"Int64\" style = \"text-align: left;\">Int64</th><th title = \"Float64\" style = \"text-align: left;\">Float64</th><th title = \"Float64\" style = \"text-align: left;\">Float64</th><th title = \"Float64\" style = \"text-align: left;\">Float64</th></tr></thead><tbody><tr><td class = \"rowNumber\" style = \"font-weight: bold; text-align: right;\">1</td><td style = \"text-align: right;\">1</td><td style = \"text-align: right;\">0.28589</td><td style = \"text-align: right;\">0.527515</td><td style = \"text-align: right;\">0.534687</td></tr><tr><td class = \"rowNumber\" style = \"font-weight: bold; text-align: right;\">2</td><td style = \"text-align: right;\">2</td><td style = \"text-align: right;\">0.389721</td><td style = \"text-align: right;\">1.69565</td><td style = \"text-align: right;\">0.624276</td></tr><tr><td class = \"rowNumber\" style = \"font-weight: bold; text-align: right;\">3</td><td style = \"text-align: right;\">3</td><td style = \"text-align: right;\">0.26454</td><td style = \"text-align: right;\">1.67104</td><td style = \"text-align: right;\">0.514335</td></tr><tr><td class = \"rowNumber\" style = \"font-weight: bold; text-align: right;\">4</td><td style = \"text-align: right;\">4</td><td style = \"text-align: right;\">0.719424</td><td style = \"text-align: right;\">-0.253313</td><td style = \"text-align: right;\">0.848188</td></tr><tr><td class = \"rowNumber\" style = \"font-weight: bold; text-align: right;\">5</td><td style = \"text-align: right;\">5</td><td style = \"text-align: right;\">0.676602</td><td style = \"text-align: right;\">1.90599</td><td style = \"text-align: right;\">0.822558</td></tr><tr><td class = \"rowNumber\" style = \"font-weight: bold; text-align: right;\">6</td><td style = \"text-align: right;\">6</td><td style = \"text-align: right;\">0.184079</td><td style = \"text-align: right;\">1.0981</td><td style = \"text-align: right;\">0.429044</td></tr><tr><td class = \"rowNumber\" style = \"font-weight: bold; text-align: right;\">7</td><td style = \"text-align: right;\">7</td><td style = \"text-align: right;\">0.46979</td><td style = \"text-align: right;\">-0.490607</td><td style = \"text-align: right;\">0.685413</td></tr><tr><td class = \"rowNumber\" style = \"font-weight: bold; text-align: right;\">8</td><td style = \"text-align: right;\">8</td><td style = \"text-align: right;\">0.568002</td><td style = \"text-align: right;\">-1.63391</td><td style = \"text-align: right;\">0.753659</td></tr><tr><td class = \"rowNumber\" style = \"font-weight: bold; text-align: right;\">9</td><td style = \"text-align: right;\">9</td><td style = \"text-align: right;\">0.51084</td><td style = \"text-align: right;\">0.526118</td><td style = \"text-align: right;\">0.714731</td></tr><tr><td class = \"rowNumber\" style = \"font-weight: bold; text-align: right;\">10</td><td style = \"text-align: right;\">10</td><td style = \"text-align: right;\">0.350315</td><td style = \"text-align: right;\">-1.75928</td><td style = \"text-align: right;\">0.591874</td></tr><tr><td class = \"rowNumber\" style = \"font-weight: bold; text-align: right;\">11</td><td style = \"text-align: right;\">11</td><td style = \"text-align: right;\">0.939279</td><td style = \"text-align: right;\">-0.434014</td><td style = \"text-align: right;\">0.969164</td></tr><tr><td class = \"rowNumber\" style = \"font-weight: bold; text-align: right;\">12</td><td style = \"text-align: right;\">12</td><td style = \"text-align: right;\">0.164889</td><td style = \"text-align: right;\">0.780157</td><td style = \"text-align: right;\">0.406065</td></tr><tr><td class = \"rowNumber\" style = \"font-weight: bold; text-align: right;\">13</td><td style = \"text-align: right;\">13</td><td style = \"text-align: right;\">0.883069</td><td style = \"text-align: right;\">0.0931702</td><td style = \"text-align: right;\">0.939718</td></tr><tr><td style = \"text-align: right;\">&vellip;</td><td style = \"text-align: right;\">&vellip;</td><td style = \"text-align: right;\">&vellip;</td><td style = \"text-align: right;\">&vellip;</td><td style = \"text-align: right;\">&vellip;</td></tr><tr><td class = \"rowNumber\" style = \"font-weight: bold; text-align: right;\">89</td><td style = \"text-align: right;\">89</td><td style = \"text-align: right;\">0.0307357</td><td style = \"text-align: right;\">-1.04739</td><td style = \"text-align: right;\">0.175316</td></tr><tr><td class = \"rowNumber\" style = \"font-weight: bold; text-align: right;\">90</td><td style = \"text-align: right;\">90</td><td style = \"text-align: right;\">0.142126</td><td style = \"text-align: right;\">0.56028</td><td style = \"text-align: right;\">0.376996</td></tr><tr><td class = \"rowNumber\" style = \"font-weight: bold; text-align: right;\">91</td><td style = \"text-align: right;\">91</td><td style = \"text-align: right;\">0.849497</td><td style = \"text-align: right;\">0.996262</td><td style = \"text-align: right;\">0.921682</td></tr><tr><td class = \"rowNumber\" style = \"font-weight: bold; text-align: right;\">92</td><td style = \"text-align: right;\">92</td><td style = \"text-align: right;\">0.505502</td><td style = \"text-align: right;\">-0.134088</td><td style = \"text-align: right;\">0.710987</td></tr><tr><td class = \"rowNumber\" style = \"font-weight: bold; text-align: right;\">93</td><td style = \"text-align: right;\">93</td><td style = \"text-align: right;\">0.201993</td><td style = \"text-align: right;\">-0.358279</td><td style = \"text-align: right;\">0.449437</td></tr><tr><td class = \"rowNumber\" style = \"font-weight: bold; text-align: right;\">94</td><td style = \"text-align: right;\">94</td><td style = \"text-align: right;\">0.441165</td><td style = \"text-align: right;\">-0.0641805</td><td style = \"text-align: right;\">0.664202</td></tr><tr><td class = \"rowNumber\" style = \"font-weight: bold; text-align: right;\">95</td><td style = \"text-align: right;\">95</td><td style = \"text-align: right;\">0.531264</td><td style = \"text-align: right;\">-1.55594</td><td style = \"text-align: right;\">0.728879</td></tr><tr><td class = \"rowNumber\" style = \"font-weight: bold; text-align: right;\">96</td><td style = \"text-align: right;\">96</td><td style = \"text-align: right;\">0.0985509</td><td style = \"text-align: right;\">0.180975</td><td style = \"text-align: right;\">0.313928</td></tr><tr><td class = \"rowNumber\" style = \"font-weight: bold; text-align: right;\">97</td><td style = \"text-align: right;\">97</td><td style = \"text-align: right;\">0.677608</td><td style = \"text-align: right;\">0.326288</td><td style = \"text-align: right;\">0.823169</td></tr><tr><td class = \"rowNumber\" style = \"font-weight: bold; text-align: right;\">98</td><td style = \"text-align: right;\">98</td><td style = \"text-align: right;\">0.105514</td><td style = \"text-align: right;\">1.51786</td><td style = \"text-align: right;\">0.324829</td></tr><tr><td class = \"rowNumber\" style = \"font-weight: bold; text-align: right;\">99</td><td style = \"text-align: right;\">99</td><td style = \"text-align: right;\">0.258119</td><td style = \"text-align: right;\">-0.537345</td><td style = \"text-align: right;\">0.508054</td></tr><tr><td class = \"rowNumber\" style = \"font-weight: bold; text-align: right;\">100</td><td style = \"text-align: right;\">100</td><td style = \"text-align: right;\">0.888894</td><td style = \"text-align: right;\">0.37708</td><td style = \"text-align: right;\">0.942812</td></tr></tbody></table></div>"
      ]
     },
     "metadata": {},
     "execution_count": 17
    }
   ],
   "cell_type": "code",
   "source": [
    "transform(data, :x => ByRow(sqrt))"
   ],
   "metadata": {},
   "execution_count": 17
  },
  {
   "cell_type": "markdown",
   "source": [
    "Notice that the previous operations did not modify the original dataset. You can modify\n",
    "your original dataset using the in-place function `transform!`:"
   ],
   "metadata": {}
  },
  {
   "outputs": [
    {
     "output_type": "execute_result",
     "data": {
      "text/plain": "\u001b[1m100×4 DataFrame\u001b[0m\n\u001b[1m Row \u001b[0m│\u001b[1m id    \u001b[0m\u001b[1m x         \u001b[0m\u001b[1m y          \u001b[0m\u001b[1m x2         \u001b[0m\n     │\u001b[90m Int64 \u001b[0m\u001b[90m Float64   \u001b[0m\u001b[90m Float64    \u001b[0m\u001b[90m Float64    \u001b[0m\n─────┼──────────────────────────────────────────\n   1 │     1  0.28589     0.527515   0.0817333\n   2 │     2  0.389721    1.69565    0.151882\n   3 │     3  0.26454     1.67104    0.0699816\n   4 │     4  0.719424   -0.253313   0.51757\n   5 │     5  0.676602    1.90599    0.457791\n   6 │     6  0.184079    1.0981     0.0338849\n   7 │     7  0.46979    -0.490607   0.220703\n   8 │     8  0.568002   -1.63391    0.322626\n  ⋮  │   ⋮        ⋮          ⋮           ⋮\n  94 │    94  0.441165   -0.0641805  0.194626\n  95 │    95  0.531264   -1.55594    0.282242\n  96 │    96  0.0985509   0.180975   0.00971228\n  97 │    97  0.677608    0.326288   0.459152\n  98 │    98  0.105514    1.51786    0.0111332\n  99 │    99  0.258119   -0.537345   0.0666253\n 100 │   100  0.888894    0.37708    0.790132\n\u001b[36m                                 85 rows omitted\u001b[0m",
      "text/html": [
       "<div><div style = \"float: left;\"><span>100×4 DataFrame</span></div><div style = \"float: right;\"><span style = \"font-style: italic;\">75 rows omitted</span></div><div style = \"clear: both;\"></div></div><div class = \"data-frame\" style = \"overflow-x: scroll;\"><table class = \"data-frame\" style = \"margin-bottom: 6px;\"><thead><tr class = \"header\"><th class = \"rowNumber\" style = \"font-weight: bold; text-align: right;\">Row</th><th style = \"text-align: left;\">id</th><th style = \"text-align: left;\">x</th><th style = \"text-align: left;\">y</th><th style = \"text-align: left;\">x2</th></tr><tr class = \"subheader headerLastRow\"><th class = \"rowNumber\" style = \"font-weight: bold; text-align: right;\"></th><th title = \"Int64\" style = \"text-align: left;\">Int64</th><th title = \"Float64\" style = \"text-align: left;\">Float64</th><th title = \"Float64\" style = \"text-align: left;\">Float64</th><th title = \"Float64\" style = \"text-align: left;\">Float64</th></tr></thead><tbody><tr><td class = \"rowNumber\" style = \"font-weight: bold; text-align: right;\">1</td><td style = \"text-align: right;\">1</td><td style = \"text-align: right;\">0.28589</td><td style = \"text-align: right;\">0.527515</td><td style = \"text-align: right;\">0.0817333</td></tr><tr><td class = \"rowNumber\" style = \"font-weight: bold; text-align: right;\">2</td><td style = \"text-align: right;\">2</td><td style = \"text-align: right;\">0.389721</td><td style = \"text-align: right;\">1.69565</td><td style = \"text-align: right;\">0.151882</td></tr><tr><td class = \"rowNumber\" style = \"font-weight: bold; text-align: right;\">3</td><td style = \"text-align: right;\">3</td><td style = \"text-align: right;\">0.26454</td><td style = \"text-align: right;\">1.67104</td><td style = \"text-align: right;\">0.0699816</td></tr><tr><td class = \"rowNumber\" style = \"font-weight: bold; text-align: right;\">4</td><td style = \"text-align: right;\">4</td><td style = \"text-align: right;\">0.719424</td><td style = \"text-align: right;\">-0.253313</td><td style = \"text-align: right;\">0.51757</td></tr><tr><td class = \"rowNumber\" style = \"font-weight: bold; text-align: right;\">5</td><td style = \"text-align: right;\">5</td><td style = \"text-align: right;\">0.676602</td><td style = \"text-align: right;\">1.90599</td><td style = \"text-align: right;\">0.457791</td></tr><tr><td class = \"rowNumber\" style = \"font-weight: bold; text-align: right;\">6</td><td style = \"text-align: right;\">6</td><td style = \"text-align: right;\">0.184079</td><td style = \"text-align: right;\">1.0981</td><td style = \"text-align: right;\">0.0338849</td></tr><tr><td class = \"rowNumber\" style = \"font-weight: bold; text-align: right;\">7</td><td style = \"text-align: right;\">7</td><td style = \"text-align: right;\">0.46979</td><td style = \"text-align: right;\">-0.490607</td><td style = \"text-align: right;\">0.220703</td></tr><tr><td class = \"rowNumber\" style = \"font-weight: bold; text-align: right;\">8</td><td style = \"text-align: right;\">8</td><td style = \"text-align: right;\">0.568002</td><td style = \"text-align: right;\">-1.63391</td><td style = \"text-align: right;\">0.322626</td></tr><tr><td class = \"rowNumber\" style = \"font-weight: bold; text-align: right;\">9</td><td style = \"text-align: right;\">9</td><td style = \"text-align: right;\">0.51084</td><td style = \"text-align: right;\">0.526118</td><td style = \"text-align: right;\">0.260957</td></tr><tr><td class = \"rowNumber\" style = \"font-weight: bold; text-align: right;\">10</td><td style = \"text-align: right;\">10</td><td style = \"text-align: right;\">0.350315</td><td style = \"text-align: right;\">-1.75928</td><td style = \"text-align: right;\">0.122721</td></tr><tr><td class = \"rowNumber\" style = \"font-weight: bold; text-align: right;\">11</td><td style = \"text-align: right;\">11</td><td style = \"text-align: right;\">0.939279</td><td style = \"text-align: right;\">-0.434014</td><td style = \"text-align: right;\">0.882244</td></tr><tr><td class = \"rowNumber\" style = \"font-weight: bold; text-align: right;\">12</td><td style = \"text-align: right;\">12</td><td style = \"text-align: right;\">0.164889</td><td style = \"text-align: right;\">0.780157</td><td style = \"text-align: right;\">0.0271884</td></tr><tr><td class = \"rowNumber\" style = \"font-weight: bold; text-align: right;\">13</td><td style = \"text-align: right;\">13</td><td style = \"text-align: right;\">0.883069</td><td style = \"text-align: right;\">0.0931702</td><td style = \"text-align: right;\">0.779811</td></tr><tr><td style = \"text-align: right;\">&vellip;</td><td style = \"text-align: right;\">&vellip;</td><td style = \"text-align: right;\">&vellip;</td><td style = \"text-align: right;\">&vellip;</td><td style = \"text-align: right;\">&vellip;</td></tr><tr><td class = \"rowNumber\" style = \"font-weight: bold; text-align: right;\">89</td><td style = \"text-align: right;\">89</td><td style = \"text-align: right;\">0.0307357</td><td style = \"text-align: right;\">-1.04739</td><td style = \"text-align: right;\">0.000944685</td></tr><tr><td class = \"rowNumber\" style = \"font-weight: bold; text-align: right;\">90</td><td style = \"text-align: right;\">90</td><td style = \"text-align: right;\">0.142126</td><td style = \"text-align: right;\">0.56028</td><td style = \"text-align: right;\">0.0201997</td></tr><tr><td class = \"rowNumber\" style = \"font-weight: bold; text-align: right;\">91</td><td style = \"text-align: right;\">91</td><td style = \"text-align: right;\">0.849497</td><td style = \"text-align: right;\">0.996262</td><td style = \"text-align: right;\">0.721646</td></tr><tr><td class = \"rowNumber\" style = \"font-weight: bold; text-align: right;\">92</td><td style = \"text-align: right;\">92</td><td style = \"text-align: right;\">0.505502</td><td style = \"text-align: right;\">-0.134088</td><td style = \"text-align: right;\">0.255532</td></tr><tr><td class = \"rowNumber\" style = \"font-weight: bold; text-align: right;\">93</td><td style = \"text-align: right;\">93</td><td style = \"text-align: right;\">0.201993</td><td style = \"text-align: right;\">-0.358279</td><td style = \"text-align: right;\">0.0408013</td></tr><tr><td class = \"rowNumber\" style = \"font-weight: bold; text-align: right;\">94</td><td style = \"text-align: right;\">94</td><td style = \"text-align: right;\">0.441165</td><td style = \"text-align: right;\">-0.0641805</td><td style = \"text-align: right;\">0.194626</td></tr><tr><td class = \"rowNumber\" style = \"font-weight: bold; text-align: right;\">95</td><td style = \"text-align: right;\">95</td><td style = \"text-align: right;\">0.531264</td><td style = \"text-align: right;\">-1.55594</td><td style = \"text-align: right;\">0.282242</td></tr><tr><td class = \"rowNumber\" style = \"font-weight: bold; text-align: right;\">96</td><td style = \"text-align: right;\">96</td><td style = \"text-align: right;\">0.0985509</td><td style = \"text-align: right;\">0.180975</td><td style = \"text-align: right;\">0.00971228</td></tr><tr><td class = \"rowNumber\" style = \"font-weight: bold; text-align: right;\">97</td><td style = \"text-align: right;\">97</td><td style = \"text-align: right;\">0.677608</td><td style = \"text-align: right;\">0.326288</td><td style = \"text-align: right;\">0.459152</td></tr><tr><td class = \"rowNumber\" style = \"font-weight: bold; text-align: right;\">98</td><td style = \"text-align: right;\">98</td><td style = \"text-align: right;\">0.105514</td><td style = \"text-align: right;\">1.51786</td><td style = \"text-align: right;\">0.0111332</td></tr><tr><td class = \"rowNumber\" style = \"font-weight: bold; text-align: right;\">99</td><td style = \"text-align: right;\">99</td><td style = \"text-align: right;\">0.258119</td><td style = \"text-align: right;\">-0.537345</td><td style = \"text-align: right;\">0.0666253</td></tr><tr><td class = \"rowNumber\" style = \"font-weight: bold; text-align: right;\">100</td><td style = \"text-align: right;\">100</td><td style = \"text-align: right;\">0.888894</td><td style = \"text-align: right;\">0.37708</td><td style = \"text-align: right;\">0.790132</td></tr></tbody></table></div>"
      ]
     },
     "metadata": {},
     "execution_count": 18
    }
   ],
   "cell_type": "code",
   "source": [
    "transform!(data, :x => (z -> z .^ 2) => :x2)"
   ],
   "metadata": {},
   "execution_count": 18
  },
  {
   "outputs": [
    {
     "output_type": "execute_result",
     "data": {
      "text/plain": "\u001b[1m100×4 DataFrame\u001b[0m\n\u001b[1m Row \u001b[0m│\u001b[1m id    \u001b[0m\u001b[1m x         \u001b[0m\u001b[1m y          \u001b[0m\u001b[1m x2         \u001b[0m\n     │\u001b[90m Int64 \u001b[0m\u001b[90m Float64   \u001b[0m\u001b[90m Float64    \u001b[0m\u001b[90m Float64    \u001b[0m\n─────┼──────────────────────────────────────────\n   1 │     1  0.28589     0.527515   0.0817333\n   2 │     2  0.389721    1.69565    0.151882\n   3 │     3  0.26454     1.67104    0.0699816\n   4 │     4  0.719424   -0.253313   0.51757\n   5 │     5  0.676602    1.90599    0.457791\n   6 │     6  0.184079    1.0981     0.0338849\n   7 │     7  0.46979    -0.490607   0.220703\n   8 │     8  0.568002   -1.63391    0.322626\n  ⋮  │   ⋮        ⋮          ⋮           ⋮\n  94 │    94  0.441165   -0.0641805  0.194626\n  95 │    95  0.531264   -1.55594    0.282242\n  96 │    96  0.0985509   0.180975   0.00971228\n  97 │    97  0.677608    0.326288   0.459152\n  98 │    98  0.105514    1.51786    0.0111332\n  99 │    99  0.258119   -0.537345   0.0666253\n 100 │   100  0.888894    0.37708    0.790132\n\u001b[36m                                 85 rows omitted\u001b[0m",
      "text/html": [
       "<div><div style = \"float: left;\"><span>100×4 DataFrame</span></div><div style = \"float: right;\"><span style = \"font-style: italic;\">75 rows omitted</span></div><div style = \"clear: both;\"></div></div><div class = \"data-frame\" style = \"overflow-x: scroll;\"><table class = \"data-frame\" style = \"margin-bottom: 6px;\"><thead><tr class = \"header\"><th class = \"rowNumber\" style = \"font-weight: bold; text-align: right;\">Row</th><th style = \"text-align: left;\">id</th><th style = \"text-align: left;\">x</th><th style = \"text-align: left;\">y</th><th style = \"text-align: left;\">x2</th></tr><tr class = \"subheader headerLastRow\"><th class = \"rowNumber\" style = \"font-weight: bold; text-align: right;\"></th><th title = \"Int64\" style = \"text-align: left;\">Int64</th><th title = \"Float64\" style = \"text-align: left;\">Float64</th><th title = \"Float64\" style = \"text-align: left;\">Float64</th><th title = \"Float64\" style = \"text-align: left;\">Float64</th></tr></thead><tbody><tr><td class = \"rowNumber\" style = \"font-weight: bold; text-align: right;\">1</td><td style = \"text-align: right;\">1</td><td style = \"text-align: right;\">0.28589</td><td style = \"text-align: right;\">0.527515</td><td style = \"text-align: right;\">0.0817333</td></tr><tr><td class = \"rowNumber\" style = \"font-weight: bold; text-align: right;\">2</td><td style = \"text-align: right;\">2</td><td style = \"text-align: right;\">0.389721</td><td style = \"text-align: right;\">1.69565</td><td style = \"text-align: right;\">0.151882</td></tr><tr><td class = \"rowNumber\" style = \"font-weight: bold; text-align: right;\">3</td><td style = \"text-align: right;\">3</td><td style = \"text-align: right;\">0.26454</td><td style = \"text-align: right;\">1.67104</td><td style = \"text-align: right;\">0.0699816</td></tr><tr><td class = \"rowNumber\" style = \"font-weight: bold; text-align: right;\">4</td><td style = \"text-align: right;\">4</td><td style = \"text-align: right;\">0.719424</td><td style = \"text-align: right;\">-0.253313</td><td style = \"text-align: right;\">0.51757</td></tr><tr><td class = \"rowNumber\" style = \"font-weight: bold; text-align: right;\">5</td><td style = \"text-align: right;\">5</td><td style = \"text-align: right;\">0.676602</td><td style = \"text-align: right;\">1.90599</td><td style = \"text-align: right;\">0.457791</td></tr><tr><td class = \"rowNumber\" style = \"font-weight: bold; text-align: right;\">6</td><td style = \"text-align: right;\">6</td><td style = \"text-align: right;\">0.184079</td><td style = \"text-align: right;\">1.0981</td><td style = \"text-align: right;\">0.0338849</td></tr><tr><td class = \"rowNumber\" style = \"font-weight: bold; text-align: right;\">7</td><td style = \"text-align: right;\">7</td><td style = \"text-align: right;\">0.46979</td><td style = \"text-align: right;\">-0.490607</td><td style = \"text-align: right;\">0.220703</td></tr><tr><td class = \"rowNumber\" style = \"font-weight: bold; text-align: right;\">8</td><td style = \"text-align: right;\">8</td><td style = \"text-align: right;\">0.568002</td><td style = \"text-align: right;\">-1.63391</td><td style = \"text-align: right;\">0.322626</td></tr><tr><td class = \"rowNumber\" style = \"font-weight: bold; text-align: right;\">9</td><td style = \"text-align: right;\">9</td><td style = \"text-align: right;\">0.51084</td><td style = \"text-align: right;\">0.526118</td><td style = \"text-align: right;\">0.260957</td></tr><tr><td class = \"rowNumber\" style = \"font-weight: bold; text-align: right;\">10</td><td style = \"text-align: right;\">10</td><td style = \"text-align: right;\">0.350315</td><td style = \"text-align: right;\">-1.75928</td><td style = \"text-align: right;\">0.122721</td></tr><tr><td class = \"rowNumber\" style = \"font-weight: bold; text-align: right;\">11</td><td style = \"text-align: right;\">11</td><td style = \"text-align: right;\">0.939279</td><td style = \"text-align: right;\">-0.434014</td><td style = \"text-align: right;\">0.882244</td></tr><tr><td class = \"rowNumber\" style = \"font-weight: bold; text-align: right;\">12</td><td style = \"text-align: right;\">12</td><td style = \"text-align: right;\">0.164889</td><td style = \"text-align: right;\">0.780157</td><td style = \"text-align: right;\">0.0271884</td></tr><tr><td class = \"rowNumber\" style = \"font-weight: bold; text-align: right;\">13</td><td style = \"text-align: right;\">13</td><td style = \"text-align: right;\">0.883069</td><td style = \"text-align: right;\">0.0931702</td><td style = \"text-align: right;\">0.779811</td></tr><tr><td style = \"text-align: right;\">&vellip;</td><td style = \"text-align: right;\">&vellip;</td><td style = \"text-align: right;\">&vellip;</td><td style = \"text-align: right;\">&vellip;</td><td style = \"text-align: right;\">&vellip;</td></tr><tr><td class = \"rowNumber\" style = \"font-weight: bold; text-align: right;\">89</td><td style = \"text-align: right;\">89</td><td style = \"text-align: right;\">0.0307357</td><td style = \"text-align: right;\">-1.04739</td><td style = \"text-align: right;\">0.000944685</td></tr><tr><td class = \"rowNumber\" style = \"font-weight: bold; text-align: right;\">90</td><td style = \"text-align: right;\">90</td><td style = \"text-align: right;\">0.142126</td><td style = \"text-align: right;\">0.56028</td><td style = \"text-align: right;\">0.0201997</td></tr><tr><td class = \"rowNumber\" style = \"font-weight: bold; text-align: right;\">91</td><td style = \"text-align: right;\">91</td><td style = \"text-align: right;\">0.849497</td><td style = \"text-align: right;\">0.996262</td><td style = \"text-align: right;\">0.721646</td></tr><tr><td class = \"rowNumber\" style = \"font-weight: bold; text-align: right;\">92</td><td style = \"text-align: right;\">92</td><td style = \"text-align: right;\">0.505502</td><td style = \"text-align: right;\">-0.134088</td><td style = \"text-align: right;\">0.255532</td></tr><tr><td class = \"rowNumber\" style = \"font-weight: bold; text-align: right;\">93</td><td style = \"text-align: right;\">93</td><td style = \"text-align: right;\">0.201993</td><td style = \"text-align: right;\">-0.358279</td><td style = \"text-align: right;\">0.0408013</td></tr><tr><td class = \"rowNumber\" style = \"font-weight: bold; text-align: right;\">94</td><td style = \"text-align: right;\">94</td><td style = \"text-align: right;\">0.441165</td><td style = \"text-align: right;\">-0.0641805</td><td style = \"text-align: right;\">0.194626</td></tr><tr><td class = \"rowNumber\" style = \"font-weight: bold; text-align: right;\">95</td><td style = \"text-align: right;\">95</td><td style = \"text-align: right;\">0.531264</td><td style = \"text-align: right;\">-1.55594</td><td style = \"text-align: right;\">0.282242</td></tr><tr><td class = \"rowNumber\" style = \"font-weight: bold; text-align: right;\">96</td><td style = \"text-align: right;\">96</td><td style = \"text-align: right;\">0.0985509</td><td style = \"text-align: right;\">0.180975</td><td style = \"text-align: right;\">0.00971228</td></tr><tr><td class = \"rowNumber\" style = \"font-weight: bold; text-align: right;\">97</td><td style = \"text-align: right;\">97</td><td style = \"text-align: right;\">0.677608</td><td style = \"text-align: right;\">0.326288</td><td style = \"text-align: right;\">0.459152</td></tr><tr><td class = \"rowNumber\" style = \"font-weight: bold; text-align: right;\">98</td><td style = \"text-align: right;\">98</td><td style = \"text-align: right;\">0.105514</td><td style = \"text-align: right;\">1.51786</td><td style = \"text-align: right;\">0.0111332</td></tr><tr><td class = \"rowNumber\" style = \"font-weight: bold; text-align: right;\">99</td><td style = \"text-align: right;\">99</td><td style = \"text-align: right;\">0.258119</td><td style = \"text-align: right;\">-0.537345</td><td style = \"text-align: right;\">0.0666253</td></tr><tr><td class = \"rowNumber\" style = \"font-weight: bold; text-align: right;\">100</td><td style = \"text-align: right;\">100</td><td style = \"text-align: right;\">0.888894</td><td style = \"text-align: right;\">0.37708</td><td style = \"text-align: right;\">0.790132</td></tr></tbody></table></div>"
      ]
     },
     "metadata": {},
     "execution_count": 19
    }
   ],
   "cell_type": "code",
   "source": [
    "data"
   ],
   "metadata": {},
   "execution_count": 19
  },
  {
   "cell_type": "markdown",
   "source": [
    "The function `select` works in a similar way, but only includes the desired variables:"
   ],
   "metadata": {}
  },
  {
   "outputs": [
    {
     "output_type": "execute_result",
     "data": {
      "text/plain": "\u001b[1m100×1 DataFrame\u001b[0m\n\u001b[1m Row \u001b[0m│\u001b[1m x2         \u001b[0m\n     │\u001b[90m Float64    \u001b[0m\n─────┼────────────\n   1 │ 0.0817333\n   2 │ 0.151882\n   3 │ 0.0699816\n   4 │ 0.51757\n   5 │ 0.457791\n   6 │ 0.0338849\n   7 │ 0.220703\n   8 │ 0.322626\n  ⋮  │     ⋮\n  94 │ 0.194626\n  95 │ 0.282242\n  96 │ 0.00971228\n  97 │ 0.459152\n  98 │ 0.0111332\n  99 │ 0.0666253\n 100 │ 0.790132\n\u001b[36m   85 rows omitted\u001b[0m",
      "text/html": [
       "<div><div style = \"float: left;\"><span>100×1 DataFrame</span></div><div style = \"float: right;\"><span style = \"font-style: italic;\">75 rows omitted</span></div><div style = \"clear: both;\"></div></div><div class = \"data-frame\" style = \"overflow-x: scroll;\"><table class = \"data-frame\" style = \"margin-bottom: 6px;\"><thead><tr class = \"header\"><th class = \"rowNumber\" style = \"font-weight: bold; text-align: right;\">Row</th><th style = \"text-align: left;\">x2</th></tr><tr class = \"subheader headerLastRow\"><th class = \"rowNumber\" style = \"font-weight: bold; text-align: right;\"></th><th title = \"Float64\" style = \"text-align: left;\">Float64</th></tr></thead><tbody><tr><td class = \"rowNumber\" style = \"font-weight: bold; text-align: right;\">1</td><td style = \"text-align: right;\">0.0817333</td></tr><tr><td class = \"rowNumber\" style = \"font-weight: bold; text-align: right;\">2</td><td style = \"text-align: right;\">0.151882</td></tr><tr><td class = \"rowNumber\" style = \"font-weight: bold; text-align: right;\">3</td><td style = \"text-align: right;\">0.0699816</td></tr><tr><td class = \"rowNumber\" style = \"font-weight: bold; text-align: right;\">4</td><td style = \"text-align: right;\">0.51757</td></tr><tr><td class = \"rowNumber\" style = \"font-weight: bold; text-align: right;\">5</td><td style = \"text-align: right;\">0.457791</td></tr><tr><td class = \"rowNumber\" style = \"font-weight: bold; text-align: right;\">6</td><td style = \"text-align: right;\">0.0338849</td></tr><tr><td class = \"rowNumber\" style = \"font-weight: bold; text-align: right;\">7</td><td style = \"text-align: right;\">0.220703</td></tr><tr><td class = \"rowNumber\" style = \"font-weight: bold; text-align: right;\">8</td><td style = \"text-align: right;\">0.322626</td></tr><tr><td class = \"rowNumber\" style = \"font-weight: bold; text-align: right;\">9</td><td style = \"text-align: right;\">0.260957</td></tr><tr><td class = \"rowNumber\" style = \"font-weight: bold; text-align: right;\">10</td><td style = \"text-align: right;\">0.122721</td></tr><tr><td class = \"rowNumber\" style = \"font-weight: bold; text-align: right;\">11</td><td style = \"text-align: right;\">0.882244</td></tr><tr><td class = \"rowNumber\" style = \"font-weight: bold; text-align: right;\">12</td><td style = \"text-align: right;\">0.0271884</td></tr><tr><td class = \"rowNumber\" style = \"font-weight: bold; text-align: right;\">13</td><td style = \"text-align: right;\">0.779811</td></tr><tr><td style = \"text-align: right;\">&vellip;</td><td style = \"text-align: right;\">&vellip;</td></tr><tr><td class = \"rowNumber\" style = \"font-weight: bold; text-align: right;\">89</td><td style = \"text-align: right;\">0.000944685</td></tr><tr><td class = \"rowNumber\" style = \"font-weight: bold; text-align: right;\">90</td><td style = \"text-align: right;\">0.0201997</td></tr><tr><td class = \"rowNumber\" style = \"font-weight: bold; text-align: right;\">91</td><td style = \"text-align: right;\">0.721646</td></tr><tr><td class = \"rowNumber\" style = \"font-weight: bold; text-align: right;\">92</td><td style = \"text-align: right;\">0.255532</td></tr><tr><td class = \"rowNumber\" style = \"font-weight: bold; text-align: right;\">93</td><td style = \"text-align: right;\">0.0408013</td></tr><tr><td class = \"rowNumber\" style = \"font-weight: bold; text-align: right;\">94</td><td style = \"text-align: right;\">0.194626</td></tr><tr><td class = \"rowNumber\" style = \"font-weight: bold; text-align: right;\">95</td><td style = \"text-align: right;\">0.282242</td></tr><tr><td class = \"rowNumber\" style = \"font-weight: bold; text-align: right;\">96</td><td style = \"text-align: right;\">0.00971228</td></tr><tr><td class = \"rowNumber\" style = \"font-weight: bold; text-align: right;\">97</td><td style = \"text-align: right;\">0.459152</td></tr><tr><td class = \"rowNumber\" style = \"font-weight: bold; text-align: right;\">98</td><td style = \"text-align: right;\">0.0111332</td></tr><tr><td class = \"rowNumber\" style = \"font-weight: bold; text-align: right;\">99</td><td style = \"text-align: right;\">0.0666253</td></tr><tr><td class = \"rowNumber\" style = \"font-weight: bold; text-align: right;\">100</td><td style = \"text-align: right;\">0.790132</td></tr></tbody></table></div>"
      ]
     },
     "metadata": {},
     "execution_count": 20
    }
   ],
   "cell_type": "code",
   "source": [
    "select(data, :x => (z -> z .^ 2) => :x2)"
   ],
   "metadata": {},
   "execution_count": 20
  },
  {
   "outputs": [
    {
     "output_type": "execute_result",
     "data": {
      "text/plain": "\u001b[1m100×2 DataFrame\u001b[0m\n\u001b[1m Row \u001b[0m│\u001b[1m x         \u001b[0m\u001b[1m y          \u001b[0m\n     │\u001b[90m Float64   \u001b[0m\u001b[90m Float64    \u001b[0m\n─────┼───────────────────────\n   1 │ 0.28589     0.527515\n   2 │ 0.389721    1.69565\n   3 │ 0.26454     1.67104\n   4 │ 0.719424   -0.253313\n   5 │ 0.676602    1.90599\n   6 │ 0.184079    1.0981\n   7 │ 0.46979    -0.490607\n   8 │ 0.568002   -1.63391\n  ⋮  │     ⋮          ⋮\n  94 │ 0.441165   -0.0641805\n  95 │ 0.531264   -1.55594\n  96 │ 0.0985509   0.180975\n  97 │ 0.677608    0.326288\n  98 │ 0.105514    1.51786\n  99 │ 0.258119   -0.537345\n 100 │ 0.888894    0.37708\n\u001b[36m              85 rows omitted\u001b[0m",
      "text/html": [
       "<div><div style = \"float: left;\"><span>100×2 DataFrame</span></div><div style = \"float: right;\"><span style = \"font-style: italic;\">75 rows omitted</span></div><div style = \"clear: both;\"></div></div><div class = \"data-frame\" style = \"overflow-x: scroll;\"><table class = \"data-frame\" style = \"margin-bottom: 6px;\"><thead><tr class = \"header\"><th class = \"rowNumber\" style = \"font-weight: bold; text-align: right;\">Row</th><th style = \"text-align: left;\">x</th><th style = \"text-align: left;\">y</th></tr><tr class = \"subheader headerLastRow\"><th class = \"rowNumber\" style = \"font-weight: bold; text-align: right;\"></th><th title = \"Float64\" style = \"text-align: left;\">Float64</th><th title = \"Float64\" style = \"text-align: left;\">Float64</th></tr></thead><tbody><tr><td class = \"rowNumber\" style = \"font-weight: bold; text-align: right;\">1</td><td style = \"text-align: right;\">0.28589</td><td style = \"text-align: right;\">0.527515</td></tr><tr><td class = \"rowNumber\" style = \"font-weight: bold; text-align: right;\">2</td><td style = \"text-align: right;\">0.389721</td><td style = \"text-align: right;\">1.69565</td></tr><tr><td class = \"rowNumber\" style = \"font-weight: bold; text-align: right;\">3</td><td style = \"text-align: right;\">0.26454</td><td style = \"text-align: right;\">1.67104</td></tr><tr><td class = \"rowNumber\" style = \"font-weight: bold; text-align: right;\">4</td><td style = \"text-align: right;\">0.719424</td><td style = \"text-align: right;\">-0.253313</td></tr><tr><td class = \"rowNumber\" style = \"font-weight: bold; text-align: right;\">5</td><td style = \"text-align: right;\">0.676602</td><td style = \"text-align: right;\">1.90599</td></tr><tr><td class = \"rowNumber\" style = \"font-weight: bold; text-align: right;\">6</td><td style = \"text-align: right;\">0.184079</td><td style = \"text-align: right;\">1.0981</td></tr><tr><td class = \"rowNumber\" style = \"font-weight: bold; text-align: right;\">7</td><td style = \"text-align: right;\">0.46979</td><td style = \"text-align: right;\">-0.490607</td></tr><tr><td class = \"rowNumber\" style = \"font-weight: bold; text-align: right;\">8</td><td style = \"text-align: right;\">0.568002</td><td style = \"text-align: right;\">-1.63391</td></tr><tr><td class = \"rowNumber\" style = \"font-weight: bold; text-align: right;\">9</td><td style = \"text-align: right;\">0.51084</td><td style = \"text-align: right;\">0.526118</td></tr><tr><td class = \"rowNumber\" style = \"font-weight: bold; text-align: right;\">10</td><td style = \"text-align: right;\">0.350315</td><td style = \"text-align: right;\">-1.75928</td></tr><tr><td class = \"rowNumber\" style = \"font-weight: bold; text-align: right;\">11</td><td style = \"text-align: right;\">0.939279</td><td style = \"text-align: right;\">-0.434014</td></tr><tr><td class = \"rowNumber\" style = \"font-weight: bold; text-align: right;\">12</td><td style = \"text-align: right;\">0.164889</td><td style = \"text-align: right;\">0.780157</td></tr><tr><td class = \"rowNumber\" style = \"font-weight: bold; text-align: right;\">13</td><td style = \"text-align: right;\">0.883069</td><td style = \"text-align: right;\">0.0931702</td></tr><tr><td style = \"text-align: right;\">&vellip;</td><td style = \"text-align: right;\">&vellip;</td><td style = \"text-align: right;\">&vellip;</td></tr><tr><td class = \"rowNumber\" style = \"font-weight: bold; text-align: right;\">89</td><td style = \"text-align: right;\">0.0307357</td><td style = \"text-align: right;\">-1.04739</td></tr><tr><td class = \"rowNumber\" style = \"font-weight: bold; text-align: right;\">90</td><td style = \"text-align: right;\">0.142126</td><td style = \"text-align: right;\">0.56028</td></tr><tr><td class = \"rowNumber\" style = \"font-weight: bold; text-align: right;\">91</td><td style = \"text-align: right;\">0.849497</td><td style = \"text-align: right;\">0.996262</td></tr><tr><td class = \"rowNumber\" style = \"font-weight: bold; text-align: right;\">92</td><td style = \"text-align: right;\">0.505502</td><td style = \"text-align: right;\">-0.134088</td></tr><tr><td class = \"rowNumber\" style = \"font-weight: bold; text-align: right;\">93</td><td style = \"text-align: right;\">0.201993</td><td style = \"text-align: right;\">-0.358279</td></tr><tr><td class = \"rowNumber\" style = \"font-weight: bold; text-align: right;\">94</td><td style = \"text-align: right;\">0.441165</td><td style = \"text-align: right;\">-0.0641805</td></tr><tr><td class = \"rowNumber\" style = \"font-weight: bold; text-align: right;\">95</td><td style = \"text-align: right;\">0.531264</td><td style = \"text-align: right;\">-1.55594</td></tr><tr><td class = \"rowNumber\" style = \"font-weight: bold; text-align: right;\">96</td><td style = \"text-align: right;\">0.0985509</td><td style = \"text-align: right;\">0.180975</td></tr><tr><td class = \"rowNumber\" style = \"font-weight: bold; text-align: right;\">97</td><td style = \"text-align: right;\">0.677608</td><td style = \"text-align: right;\">0.326288</td></tr><tr><td class = \"rowNumber\" style = \"font-weight: bold; text-align: right;\">98</td><td style = \"text-align: right;\">0.105514</td><td style = \"text-align: right;\">1.51786</td></tr><tr><td class = \"rowNumber\" style = \"font-weight: bold; text-align: right;\">99</td><td style = \"text-align: right;\">0.258119</td><td style = \"text-align: right;\">-0.537345</td></tr><tr><td class = \"rowNumber\" style = \"font-weight: bold; text-align: right;\">100</td><td style = \"text-align: right;\">0.888894</td><td style = \"text-align: right;\">0.37708</td></tr></tbody></table></div>"
      ]
     },
     "metadata": {},
     "execution_count": 21
    }
   ],
   "cell_type": "code",
   "source": [
    "select(data, :x, :y)"
   ],
   "metadata": {},
   "execution_count": 21
  },
  {
   "outputs": [
    {
     "output_type": "execute_result",
     "data": {
      "text/plain": "Regex"
     },
     "metadata": {},
     "execution_count": 22
    }
   ],
   "cell_type": "code",
   "source": [
    "typeof(r\"^x\")"
   ],
   "metadata": {},
   "execution_count": 22
  },
  {
   "outputs": [
    {
     "output_type": "execute_result",
     "data": {
      "text/plain": "\u001b[1m100×2 DataFrame\u001b[0m\n\u001b[1m Row \u001b[0m│\u001b[1m x         \u001b[0m\u001b[1m x2         \u001b[0m\n     │\u001b[90m Float64   \u001b[0m\u001b[90m Float64    \u001b[0m\n─────┼───────────────────────\n   1 │ 0.28589    0.0817333\n   2 │ 0.389721   0.151882\n   3 │ 0.26454    0.0699816\n   4 │ 0.719424   0.51757\n   5 │ 0.676602   0.457791\n   6 │ 0.184079   0.0338849\n   7 │ 0.46979    0.220703\n   8 │ 0.568002   0.322626\n  ⋮  │     ⋮          ⋮\n  94 │ 0.441165   0.194626\n  95 │ 0.531264   0.282242\n  96 │ 0.0985509  0.00971228\n  97 │ 0.677608   0.459152\n  98 │ 0.105514   0.0111332\n  99 │ 0.258119   0.0666253\n 100 │ 0.888894   0.790132\n\u001b[36m              85 rows omitted\u001b[0m",
      "text/html": [
       "<div><div style = \"float: left;\"><span>100×2 DataFrame</span></div><div style = \"float: right;\"><span style = \"font-style: italic;\">75 rows omitted</span></div><div style = \"clear: both;\"></div></div><div class = \"data-frame\" style = \"overflow-x: scroll;\"><table class = \"data-frame\" style = \"margin-bottom: 6px;\"><thead><tr class = \"header\"><th class = \"rowNumber\" style = \"font-weight: bold; text-align: right;\">Row</th><th style = \"text-align: left;\">x</th><th style = \"text-align: left;\">x2</th></tr><tr class = \"subheader headerLastRow\"><th class = \"rowNumber\" style = \"font-weight: bold; text-align: right;\"></th><th title = \"Float64\" style = \"text-align: left;\">Float64</th><th title = \"Float64\" style = \"text-align: left;\">Float64</th></tr></thead><tbody><tr><td class = \"rowNumber\" style = \"font-weight: bold; text-align: right;\">1</td><td style = \"text-align: right;\">0.28589</td><td style = \"text-align: right;\">0.0817333</td></tr><tr><td class = \"rowNumber\" style = \"font-weight: bold; text-align: right;\">2</td><td style = \"text-align: right;\">0.389721</td><td style = \"text-align: right;\">0.151882</td></tr><tr><td class = \"rowNumber\" style = \"font-weight: bold; text-align: right;\">3</td><td style = \"text-align: right;\">0.26454</td><td style = \"text-align: right;\">0.0699816</td></tr><tr><td class = \"rowNumber\" style = \"font-weight: bold; text-align: right;\">4</td><td style = \"text-align: right;\">0.719424</td><td style = \"text-align: right;\">0.51757</td></tr><tr><td class = \"rowNumber\" style = \"font-weight: bold; text-align: right;\">5</td><td style = \"text-align: right;\">0.676602</td><td style = \"text-align: right;\">0.457791</td></tr><tr><td class = \"rowNumber\" style = \"font-weight: bold; text-align: right;\">6</td><td style = \"text-align: right;\">0.184079</td><td style = \"text-align: right;\">0.0338849</td></tr><tr><td class = \"rowNumber\" style = \"font-weight: bold; text-align: right;\">7</td><td style = \"text-align: right;\">0.46979</td><td style = \"text-align: right;\">0.220703</td></tr><tr><td class = \"rowNumber\" style = \"font-weight: bold; text-align: right;\">8</td><td style = \"text-align: right;\">0.568002</td><td style = \"text-align: right;\">0.322626</td></tr><tr><td class = \"rowNumber\" style = \"font-weight: bold; text-align: right;\">9</td><td style = \"text-align: right;\">0.51084</td><td style = \"text-align: right;\">0.260957</td></tr><tr><td class = \"rowNumber\" style = \"font-weight: bold; text-align: right;\">10</td><td style = \"text-align: right;\">0.350315</td><td style = \"text-align: right;\">0.122721</td></tr><tr><td class = \"rowNumber\" style = \"font-weight: bold; text-align: right;\">11</td><td style = \"text-align: right;\">0.939279</td><td style = \"text-align: right;\">0.882244</td></tr><tr><td class = \"rowNumber\" style = \"font-weight: bold; text-align: right;\">12</td><td style = \"text-align: right;\">0.164889</td><td style = \"text-align: right;\">0.0271884</td></tr><tr><td class = \"rowNumber\" style = \"font-weight: bold; text-align: right;\">13</td><td style = \"text-align: right;\">0.883069</td><td style = \"text-align: right;\">0.779811</td></tr><tr><td style = \"text-align: right;\">&vellip;</td><td style = \"text-align: right;\">&vellip;</td><td style = \"text-align: right;\">&vellip;</td></tr><tr><td class = \"rowNumber\" style = \"font-weight: bold; text-align: right;\">89</td><td style = \"text-align: right;\">0.0307357</td><td style = \"text-align: right;\">0.000944685</td></tr><tr><td class = \"rowNumber\" style = \"font-weight: bold; text-align: right;\">90</td><td style = \"text-align: right;\">0.142126</td><td style = \"text-align: right;\">0.0201997</td></tr><tr><td class = \"rowNumber\" style = \"font-weight: bold; text-align: right;\">91</td><td style = \"text-align: right;\">0.849497</td><td style = \"text-align: right;\">0.721646</td></tr><tr><td class = \"rowNumber\" style = \"font-weight: bold; text-align: right;\">92</td><td style = \"text-align: right;\">0.505502</td><td style = \"text-align: right;\">0.255532</td></tr><tr><td class = \"rowNumber\" style = \"font-weight: bold; text-align: right;\">93</td><td style = \"text-align: right;\">0.201993</td><td style = \"text-align: right;\">0.0408013</td></tr><tr><td class = \"rowNumber\" style = \"font-weight: bold; text-align: right;\">94</td><td style = \"text-align: right;\">0.441165</td><td style = \"text-align: right;\">0.194626</td></tr><tr><td class = \"rowNumber\" style = \"font-weight: bold; text-align: right;\">95</td><td style = \"text-align: right;\">0.531264</td><td style = \"text-align: right;\">0.282242</td></tr><tr><td class = \"rowNumber\" style = \"font-weight: bold; text-align: right;\">96</td><td style = \"text-align: right;\">0.0985509</td><td style = \"text-align: right;\">0.00971228</td></tr><tr><td class = \"rowNumber\" style = \"font-weight: bold; text-align: right;\">97</td><td style = \"text-align: right;\">0.677608</td><td style = \"text-align: right;\">0.459152</td></tr><tr><td class = \"rowNumber\" style = \"font-weight: bold; text-align: right;\">98</td><td style = \"text-align: right;\">0.105514</td><td style = \"text-align: right;\">0.0111332</td></tr><tr><td class = \"rowNumber\" style = \"font-weight: bold; text-align: right;\">99</td><td style = \"text-align: right;\">0.258119</td><td style = \"text-align: right;\">0.0666253</td></tr><tr><td class = \"rowNumber\" style = \"font-weight: bold; text-align: right;\">100</td><td style = \"text-align: right;\">0.888894</td><td style = \"text-align: right;\">0.790132</td></tr></tbody></table></div>"
      ]
     },
     "metadata": {},
     "execution_count": 23
    }
   ],
   "cell_type": "code",
   "source": [
    "select(data, r\"^x\")"
   ],
   "metadata": {},
   "execution_count": 23
  },
  {
   "cell_type": "markdown",
   "source": [
    "Let's add new columns:"
   ],
   "metadata": {}
  },
  {
   "outputs": [
    {
     "output_type": "execute_result",
     "data": {
      "text/plain": "\u001b[1m100×5 DataFrame\u001b[0m\n\u001b[1m Row \u001b[0m│\u001b[1m id    \u001b[0m\u001b[1m x         \u001b[0m\u001b[1m y          \u001b[0m\u001b[1m x2         \u001b[0m\u001b[1m z         \u001b[0m\n     │\u001b[90m Int64 \u001b[0m\u001b[90m Float64   \u001b[0m\u001b[90m Float64    \u001b[0m\u001b[90m Float64    \u001b[0m\u001b[90m Float64   \u001b[0m\n─────┼─────────────────────────────────────────────────────\n   1 │     1  0.28589     0.527515   0.0817333   0.415746\n   2 │     2  0.389721    1.69565    0.151882    0.145416\n   3 │     3  0.26454     1.67104    0.0699816   0.968211\n   4 │     4  0.719424   -0.253313   0.51757     0.122135\n   5 │     5  0.676602    1.90599    0.457791    0.650245\n   6 │     6  0.184079    1.0981     0.0338849   0.908385\n   7 │     7  0.46979    -0.490607   0.220703    0.368075\n   8 │     8  0.568002   -1.63391    0.322626    0.63738\n  ⋮  │   ⋮        ⋮          ⋮           ⋮           ⋮\n  94 │    94  0.441165   -0.0641805  0.194626    0.19101\n  95 │    95  0.531264   -1.55594    0.282242    0.648277\n  96 │    96  0.0985509   0.180975   0.00971228  0.797986\n  97 │    97  0.677608    0.326288   0.459152    0.204293\n  98 │    98  0.105514    1.51786    0.0111332   0.418368\n  99 │    99  0.258119   -0.537345   0.0666253   0.0400795\n 100 │   100  0.888894    0.37708    0.790132    0.31578\n\u001b[36m                                            85 rows omitted\u001b[0m",
      "text/html": [
       "<div><div style = \"float: left;\"><span>100×5 DataFrame</span></div><div style = \"float: right;\"><span style = \"font-style: italic;\">75 rows omitted</span></div><div style = \"clear: both;\"></div></div><div class = \"data-frame\" style = \"overflow-x: scroll;\"><table class = \"data-frame\" style = \"margin-bottom: 6px;\"><thead><tr class = \"header\"><th class = \"rowNumber\" style = \"font-weight: bold; text-align: right;\">Row</th><th style = \"text-align: left;\">id</th><th style = \"text-align: left;\">x</th><th style = \"text-align: left;\">y</th><th style = \"text-align: left;\">x2</th><th style = \"text-align: left;\">z</th></tr><tr class = \"subheader headerLastRow\"><th class = \"rowNumber\" style = \"font-weight: bold; text-align: right;\"></th><th title = \"Int64\" style = \"text-align: left;\">Int64</th><th title = \"Float64\" style = \"text-align: left;\">Float64</th><th title = \"Float64\" style = \"text-align: left;\">Float64</th><th title = \"Float64\" style = \"text-align: left;\">Float64</th><th title = \"Float64\" style = \"text-align: left;\">Float64</th></tr></thead><tbody><tr><td class = \"rowNumber\" style = \"font-weight: bold; text-align: right;\">1</td><td style = \"text-align: right;\">1</td><td style = \"text-align: right;\">0.28589</td><td style = \"text-align: right;\">0.527515</td><td style = \"text-align: right;\">0.0817333</td><td style = \"text-align: right;\">0.415746</td></tr><tr><td class = \"rowNumber\" style = \"font-weight: bold; text-align: right;\">2</td><td style = \"text-align: right;\">2</td><td style = \"text-align: right;\">0.389721</td><td style = \"text-align: right;\">1.69565</td><td style = \"text-align: right;\">0.151882</td><td style = \"text-align: right;\">0.145416</td></tr><tr><td class = \"rowNumber\" style = \"font-weight: bold; text-align: right;\">3</td><td style = \"text-align: right;\">3</td><td style = \"text-align: right;\">0.26454</td><td style = \"text-align: right;\">1.67104</td><td style = \"text-align: right;\">0.0699816</td><td style = \"text-align: right;\">0.968211</td></tr><tr><td class = \"rowNumber\" style = \"font-weight: bold; text-align: right;\">4</td><td style = \"text-align: right;\">4</td><td style = \"text-align: right;\">0.719424</td><td style = \"text-align: right;\">-0.253313</td><td style = \"text-align: right;\">0.51757</td><td style = \"text-align: right;\">0.122135</td></tr><tr><td class = \"rowNumber\" style = \"font-weight: bold; text-align: right;\">5</td><td style = \"text-align: right;\">5</td><td style = \"text-align: right;\">0.676602</td><td style = \"text-align: right;\">1.90599</td><td style = \"text-align: right;\">0.457791</td><td style = \"text-align: right;\">0.650245</td></tr><tr><td class = \"rowNumber\" style = \"font-weight: bold; text-align: right;\">6</td><td style = \"text-align: right;\">6</td><td style = \"text-align: right;\">0.184079</td><td style = \"text-align: right;\">1.0981</td><td style = \"text-align: right;\">0.0338849</td><td style = \"text-align: right;\">0.908385</td></tr><tr><td class = \"rowNumber\" style = \"font-weight: bold; text-align: right;\">7</td><td style = \"text-align: right;\">7</td><td style = \"text-align: right;\">0.46979</td><td style = \"text-align: right;\">-0.490607</td><td style = \"text-align: right;\">0.220703</td><td style = \"text-align: right;\">0.368075</td></tr><tr><td class = \"rowNumber\" style = \"font-weight: bold; text-align: right;\">8</td><td style = \"text-align: right;\">8</td><td style = \"text-align: right;\">0.568002</td><td style = \"text-align: right;\">-1.63391</td><td style = \"text-align: right;\">0.322626</td><td style = \"text-align: right;\">0.63738</td></tr><tr><td class = \"rowNumber\" style = \"font-weight: bold; text-align: right;\">9</td><td style = \"text-align: right;\">9</td><td style = \"text-align: right;\">0.51084</td><td style = \"text-align: right;\">0.526118</td><td style = \"text-align: right;\">0.260957</td><td style = \"text-align: right;\">0.853006</td></tr><tr><td class = \"rowNumber\" style = \"font-weight: bold; text-align: right;\">10</td><td style = \"text-align: right;\">10</td><td style = \"text-align: right;\">0.350315</td><td style = \"text-align: right;\">-1.75928</td><td style = \"text-align: right;\">0.122721</td><td style = \"text-align: right;\">0.260641</td></tr><tr><td class = \"rowNumber\" style = \"font-weight: bold; text-align: right;\">11</td><td style = \"text-align: right;\">11</td><td style = \"text-align: right;\">0.939279</td><td style = \"text-align: right;\">-0.434014</td><td style = \"text-align: right;\">0.882244</td><td style = \"text-align: right;\">0.445841</td></tr><tr><td class = \"rowNumber\" style = \"font-weight: bold; text-align: right;\">12</td><td style = \"text-align: right;\">12</td><td style = \"text-align: right;\">0.164889</td><td style = \"text-align: right;\">0.780157</td><td style = \"text-align: right;\">0.0271884</td><td style = \"text-align: right;\">0.722329</td></tr><tr><td class = \"rowNumber\" style = \"font-weight: bold; text-align: right;\">13</td><td style = \"text-align: right;\">13</td><td style = \"text-align: right;\">0.883069</td><td style = \"text-align: right;\">0.0931702</td><td style = \"text-align: right;\">0.779811</td><td style = \"text-align: right;\">0.753754</td></tr><tr><td style = \"text-align: right;\">&vellip;</td><td style = \"text-align: right;\">&vellip;</td><td style = \"text-align: right;\">&vellip;</td><td style = \"text-align: right;\">&vellip;</td><td style = \"text-align: right;\">&vellip;</td><td style = \"text-align: right;\">&vellip;</td></tr><tr><td class = \"rowNumber\" style = \"font-weight: bold; text-align: right;\">89</td><td style = \"text-align: right;\">89</td><td style = \"text-align: right;\">0.0307357</td><td style = \"text-align: right;\">-1.04739</td><td style = \"text-align: right;\">0.000944685</td><td style = \"text-align: right;\">0.67941</td></tr><tr><td class = \"rowNumber\" style = \"font-weight: bold; text-align: right;\">90</td><td style = \"text-align: right;\">90</td><td style = \"text-align: right;\">0.142126</td><td style = \"text-align: right;\">0.56028</td><td style = \"text-align: right;\">0.0201997</td><td style = \"text-align: right;\">0.0526395</td></tr><tr><td class = \"rowNumber\" style = \"font-weight: bold; text-align: right;\">91</td><td style = \"text-align: right;\">91</td><td style = \"text-align: right;\">0.849497</td><td style = \"text-align: right;\">0.996262</td><td style = \"text-align: right;\">0.721646</td><td style = \"text-align: right;\">0.0411288</td></tr><tr><td class = \"rowNumber\" style = \"font-weight: bold; text-align: right;\">92</td><td style = \"text-align: right;\">92</td><td style = \"text-align: right;\">0.505502</td><td style = \"text-align: right;\">-0.134088</td><td style = \"text-align: right;\">0.255532</td><td style = \"text-align: right;\">0.463698</td></tr><tr><td class = \"rowNumber\" style = \"font-weight: bold; text-align: right;\">93</td><td style = \"text-align: right;\">93</td><td style = \"text-align: right;\">0.201993</td><td style = \"text-align: right;\">-0.358279</td><td style = \"text-align: right;\">0.0408013</td><td style = \"text-align: right;\">0.495081</td></tr><tr><td class = \"rowNumber\" style = \"font-weight: bold; text-align: right;\">94</td><td style = \"text-align: right;\">94</td><td style = \"text-align: right;\">0.441165</td><td style = \"text-align: right;\">-0.0641805</td><td style = \"text-align: right;\">0.194626</td><td style = \"text-align: right;\">0.19101</td></tr><tr><td class = \"rowNumber\" style = \"font-weight: bold; text-align: right;\">95</td><td style = \"text-align: right;\">95</td><td style = \"text-align: right;\">0.531264</td><td style = \"text-align: right;\">-1.55594</td><td style = \"text-align: right;\">0.282242</td><td style = \"text-align: right;\">0.648277</td></tr><tr><td class = \"rowNumber\" style = \"font-weight: bold; text-align: right;\">96</td><td style = \"text-align: right;\">96</td><td style = \"text-align: right;\">0.0985509</td><td style = \"text-align: right;\">0.180975</td><td style = \"text-align: right;\">0.00971228</td><td style = \"text-align: right;\">0.797986</td></tr><tr><td class = \"rowNumber\" style = \"font-weight: bold; text-align: right;\">97</td><td style = \"text-align: right;\">97</td><td style = \"text-align: right;\">0.677608</td><td style = \"text-align: right;\">0.326288</td><td style = \"text-align: right;\">0.459152</td><td style = \"text-align: right;\">0.204293</td></tr><tr><td class = \"rowNumber\" style = \"font-weight: bold; text-align: right;\">98</td><td style = \"text-align: right;\">98</td><td style = \"text-align: right;\">0.105514</td><td style = \"text-align: right;\">1.51786</td><td style = \"text-align: right;\">0.0111332</td><td style = \"text-align: right;\">0.418368</td></tr><tr><td class = \"rowNumber\" style = \"font-weight: bold; text-align: right;\">99</td><td style = \"text-align: right;\">99</td><td style = \"text-align: right;\">0.258119</td><td style = \"text-align: right;\">-0.537345</td><td style = \"text-align: right;\">0.0666253</td><td style = \"text-align: right;\">0.0400795</td></tr><tr><td class = \"rowNumber\" style = \"font-weight: bold; text-align: right;\">100</td><td style = \"text-align: right;\">100</td><td style = \"text-align: right;\">0.888894</td><td style = \"text-align: right;\">0.37708</td><td style = \"text-align: right;\">0.790132</td><td style = \"text-align: right;\">0.31578</td></tr></tbody></table></div>"
      ]
     },
     "metadata": {},
     "execution_count": 24
    }
   ],
   "cell_type": "code",
   "source": [
    "insertcols!(data, :z => rand(100))"
   ],
   "metadata": {},
   "execution_count": 24
  },
  {
   "outputs": [
    {
     "output_type": "execute_result",
     "data": {
      "text/plain": "\u001b[1m5×5 DataFrame\u001b[0m\n\u001b[1m Row \u001b[0m│\u001b[1m id    \u001b[0m\u001b[1m x        \u001b[0m\u001b[1m y         \u001b[0m\u001b[1m x2        \u001b[0m\u001b[1m z        \u001b[0m\n     │\u001b[90m Int64 \u001b[0m\u001b[90m Float64  \u001b[0m\u001b[90m Float64   \u001b[0m\u001b[90m Float64   \u001b[0m\u001b[90m Float64  \u001b[0m\n─────┼─────────────────────────────────────────────────\n   1 │     1  0.28589    0.527515  0.0817333  0.415746\n   2 │     2  0.389721   1.69565   0.151882   0.145416\n   3 │     3  0.26454    1.67104   0.0699816  0.968211\n   4 │     4  0.719424  -0.253313  0.51757    0.122135\n   5 │     5  0.676602   1.90599   0.457791   0.650245",
      "text/html": [
       "<div><div style = \"float: left;\"><span>5×5 DataFrame</span></div><div style = \"clear: both;\"></div></div><div class = \"data-frame\" style = \"overflow-x: scroll;\"><table class = \"data-frame\" style = \"margin-bottom: 6px;\"><thead><tr class = \"header\"><th class = \"rowNumber\" style = \"font-weight: bold; text-align: right;\">Row</th><th style = \"text-align: left;\">id</th><th style = \"text-align: left;\">x</th><th style = \"text-align: left;\">y</th><th style = \"text-align: left;\">x2</th><th style = \"text-align: left;\">z</th></tr><tr class = \"subheader headerLastRow\"><th class = \"rowNumber\" style = \"font-weight: bold; text-align: right;\"></th><th title = \"Int64\" style = \"text-align: left;\">Int64</th><th title = \"Float64\" style = \"text-align: left;\">Float64</th><th title = \"Float64\" style = \"text-align: left;\">Float64</th><th title = \"Float64\" style = \"text-align: left;\">Float64</th><th title = \"Float64\" style = \"text-align: left;\">Float64</th></tr></thead><tbody><tr><td class = \"rowNumber\" style = \"font-weight: bold; text-align: right;\">1</td><td style = \"text-align: right;\">1</td><td style = \"text-align: right;\">0.28589</td><td style = \"text-align: right;\">0.527515</td><td style = \"text-align: right;\">0.0817333</td><td style = \"text-align: right;\">0.415746</td></tr><tr><td class = \"rowNumber\" style = \"font-weight: bold; text-align: right;\">2</td><td style = \"text-align: right;\">2</td><td style = \"text-align: right;\">0.389721</td><td style = \"text-align: right;\">1.69565</td><td style = \"text-align: right;\">0.151882</td><td style = \"text-align: right;\">0.145416</td></tr><tr><td class = \"rowNumber\" style = \"font-weight: bold; text-align: right;\">3</td><td style = \"text-align: right;\">3</td><td style = \"text-align: right;\">0.26454</td><td style = \"text-align: right;\">1.67104</td><td style = \"text-align: right;\">0.0699816</td><td style = \"text-align: right;\">0.968211</td></tr><tr><td class = \"rowNumber\" style = \"font-weight: bold; text-align: right;\">4</td><td style = \"text-align: right;\">4</td><td style = \"text-align: right;\">0.719424</td><td style = \"text-align: right;\">-0.253313</td><td style = \"text-align: right;\">0.51757</td><td style = \"text-align: right;\">0.122135</td></tr><tr><td class = \"rowNumber\" style = \"font-weight: bold; text-align: right;\">5</td><td style = \"text-align: right;\">5</td><td style = \"text-align: right;\">0.676602</td><td style = \"text-align: right;\">1.90599</td><td style = \"text-align: right;\">0.457791</td><td style = \"text-align: right;\">0.650245</td></tr></tbody></table></div>"
      ]
     },
     "metadata": {},
     "execution_count": 25
    }
   ],
   "cell_type": "code",
   "source": [
    "first(data, 5)"
   ],
   "metadata": {},
   "execution_count": 25
  },
  {
   "cell_type": "markdown",
   "source": [
    "Let's remove columns:"
   ],
   "metadata": {}
  },
  {
   "outputs": [
    {
     "output_type": "execute_result",
     "data": {
      "text/plain": "\u001b[1m100×4 DataFrame\u001b[0m\n\u001b[1m Row \u001b[0m│\u001b[1m id    \u001b[0m\u001b[1m x         \u001b[0m\u001b[1m y          \u001b[0m\u001b[1m z         \u001b[0m\n     │\u001b[90m Int64 \u001b[0m\u001b[90m Float64   \u001b[0m\u001b[90m Float64    \u001b[0m\u001b[90m Float64   \u001b[0m\n─────┼─────────────────────────────────────────\n   1 │     1  0.28589     0.527515   0.415746\n   2 │     2  0.389721    1.69565    0.145416\n   3 │     3  0.26454     1.67104    0.968211\n   4 │     4  0.719424   -0.253313   0.122135\n   5 │     5  0.676602    1.90599    0.650245\n   6 │     6  0.184079    1.0981     0.908385\n   7 │     7  0.46979    -0.490607   0.368075\n   8 │     8  0.568002   -1.63391    0.63738\n  ⋮  │   ⋮        ⋮          ⋮           ⋮\n  94 │    94  0.441165   -0.0641805  0.19101\n  95 │    95  0.531264   -1.55594    0.648277\n  96 │    96  0.0985509   0.180975   0.797986\n  97 │    97  0.677608    0.326288   0.204293\n  98 │    98  0.105514    1.51786    0.418368\n  99 │    99  0.258119   -0.537345   0.0400795\n 100 │   100  0.888894    0.37708    0.31578\n\u001b[36m                                85 rows omitted\u001b[0m",
      "text/html": [
       "<div><div style = \"float: left;\"><span>100×4 DataFrame</span></div><div style = \"float: right;\"><span style = \"font-style: italic;\">75 rows omitted</span></div><div style = \"clear: both;\"></div></div><div class = \"data-frame\" style = \"overflow-x: scroll;\"><table class = \"data-frame\" style = \"margin-bottom: 6px;\"><thead><tr class = \"header\"><th class = \"rowNumber\" style = \"font-weight: bold; text-align: right;\">Row</th><th style = \"text-align: left;\">id</th><th style = \"text-align: left;\">x</th><th style = \"text-align: left;\">y</th><th style = \"text-align: left;\">z</th></tr><tr class = \"subheader headerLastRow\"><th class = \"rowNumber\" style = \"font-weight: bold; text-align: right;\"></th><th title = \"Int64\" style = \"text-align: left;\">Int64</th><th title = \"Float64\" style = \"text-align: left;\">Float64</th><th title = \"Float64\" style = \"text-align: left;\">Float64</th><th title = \"Float64\" style = \"text-align: left;\">Float64</th></tr></thead><tbody><tr><td class = \"rowNumber\" style = \"font-weight: bold; text-align: right;\">1</td><td style = \"text-align: right;\">1</td><td style = \"text-align: right;\">0.28589</td><td style = \"text-align: right;\">0.527515</td><td style = \"text-align: right;\">0.415746</td></tr><tr><td class = \"rowNumber\" style = \"font-weight: bold; text-align: right;\">2</td><td style = \"text-align: right;\">2</td><td style = \"text-align: right;\">0.389721</td><td style = \"text-align: right;\">1.69565</td><td style = \"text-align: right;\">0.145416</td></tr><tr><td class = \"rowNumber\" style = \"font-weight: bold; text-align: right;\">3</td><td style = \"text-align: right;\">3</td><td style = \"text-align: right;\">0.26454</td><td style = \"text-align: right;\">1.67104</td><td style = \"text-align: right;\">0.968211</td></tr><tr><td class = \"rowNumber\" style = \"font-weight: bold; text-align: right;\">4</td><td style = \"text-align: right;\">4</td><td style = \"text-align: right;\">0.719424</td><td style = \"text-align: right;\">-0.253313</td><td style = \"text-align: right;\">0.122135</td></tr><tr><td class = \"rowNumber\" style = \"font-weight: bold; text-align: right;\">5</td><td style = \"text-align: right;\">5</td><td style = \"text-align: right;\">0.676602</td><td style = \"text-align: right;\">1.90599</td><td style = \"text-align: right;\">0.650245</td></tr><tr><td class = \"rowNumber\" style = \"font-weight: bold; text-align: right;\">6</td><td style = \"text-align: right;\">6</td><td style = \"text-align: right;\">0.184079</td><td style = \"text-align: right;\">1.0981</td><td style = \"text-align: right;\">0.908385</td></tr><tr><td class = \"rowNumber\" style = \"font-weight: bold; text-align: right;\">7</td><td style = \"text-align: right;\">7</td><td style = \"text-align: right;\">0.46979</td><td style = \"text-align: right;\">-0.490607</td><td style = \"text-align: right;\">0.368075</td></tr><tr><td class = \"rowNumber\" style = \"font-weight: bold; text-align: right;\">8</td><td style = \"text-align: right;\">8</td><td style = \"text-align: right;\">0.568002</td><td style = \"text-align: right;\">-1.63391</td><td style = \"text-align: right;\">0.63738</td></tr><tr><td class = \"rowNumber\" style = \"font-weight: bold; text-align: right;\">9</td><td style = \"text-align: right;\">9</td><td style = \"text-align: right;\">0.51084</td><td style = \"text-align: right;\">0.526118</td><td style = \"text-align: right;\">0.853006</td></tr><tr><td class = \"rowNumber\" style = \"font-weight: bold; text-align: right;\">10</td><td style = \"text-align: right;\">10</td><td style = \"text-align: right;\">0.350315</td><td style = \"text-align: right;\">-1.75928</td><td style = \"text-align: right;\">0.260641</td></tr><tr><td class = \"rowNumber\" style = \"font-weight: bold; text-align: right;\">11</td><td style = \"text-align: right;\">11</td><td style = \"text-align: right;\">0.939279</td><td style = \"text-align: right;\">-0.434014</td><td style = \"text-align: right;\">0.445841</td></tr><tr><td class = \"rowNumber\" style = \"font-weight: bold; text-align: right;\">12</td><td style = \"text-align: right;\">12</td><td style = \"text-align: right;\">0.164889</td><td style = \"text-align: right;\">0.780157</td><td style = \"text-align: right;\">0.722329</td></tr><tr><td class = \"rowNumber\" style = \"font-weight: bold; text-align: right;\">13</td><td style = \"text-align: right;\">13</td><td style = \"text-align: right;\">0.883069</td><td style = \"text-align: right;\">0.0931702</td><td style = \"text-align: right;\">0.753754</td></tr><tr><td style = \"text-align: right;\">&vellip;</td><td style = \"text-align: right;\">&vellip;</td><td style = \"text-align: right;\">&vellip;</td><td style = \"text-align: right;\">&vellip;</td><td style = \"text-align: right;\">&vellip;</td></tr><tr><td class = \"rowNumber\" style = \"font-weight: bold; text-align: right;\">89</td><td style = \"text-align: right;\">89</td><td style = \"text-align: right;\">0.0307357</td><td style = \"text-align: right;\">-1.04739</td><td style = \"text-align: right;\">0.67941</td></tr><tr><td class = \"rowNumber\" style = \"font-weight: bold; text-align: right;\">90</td><td style = \"text-align: right;\">90</td><td style = \"text-align: right;\">0.142126</td><td style = \"text-align: right;\">0.56028</td><td style = \"text-align: right;\">0.0526395</td></tr><tr><td class = \"rowNumber\" style = \"font-weight: bold; text-align: right;\">91</td><td style = \"text-align: right;\">91</td><td style = \"text-align: right;\">0.849497</td><td style = \"text-align: right;\">0.996262</td><td style = \"text-align: right;\">0.0411288</td></tr><tr><td class = \"rowNumber\" style = \"font-weight: bold; text-align: right;\">92</td><td style = \"text-align: right;\">92</td><td style = \"text-align: right;\">0.505502</td><td style = \"text-align: right;\">-0.134088</td><td style = \"text-align: right;\">0.463698</td></tr><tr><td class = \"rowNumber\" style = \"font-weight: bold; text-align: right;\">93</td><td style = \"text-align: right;\">93</td><td style = \"text-align: right;\">0.201993</td><td style = \"text-align: right;\">-0.358279</td><td style = \"text-align: right;\">0.495081</td></tr><tr><td class = \"rowNumber\" style = \"font-weight: bold; text-align: right;\">94</td><td style = \"text-align: right;\">94</td><td style = \"text-align: right;\">0.441165</td><td style = \"text-align: right;\">-0.0641805</td><td style = \"text-align: right;\">0.19101</td></tr><tr><td class = \"rowNumber\" style = \"font-weight: bold; text-align: right;\">95</td><td style = \"text-align: right;\">95</td><td style = \"text-align: right;\">0.531264</td><td style = \"text-align: right;\">-1.55594</td><td style = \"text-align: right;\">0.648277</td></tr><tr><td class = \"rowNumber\" style = \"font-weight: bold; text-align: right;\">96</td><td style = \"text-align: right;\">96</td><td style = \"text-align: right;\">0.0985509</td><td style = \"text-align: right;\">0.180975</td><td style = \"text-align: right;\">0.797986</td></tr><tr><td class = \"rowNumber\" style = \"font-weight: bold; text-align: right;\">97</td><td style = \"text-align: right;\">97</td><td style = \"text-align: right;\">0.677608</td><td style = \"text-align: right;\">0.326288</td><td style = \"text-align: right;\">0.204293</td></tr><tr><td class = \"rowNumber\" style = \"font-weight: bold; text-align: right;\">98</td><td style = \"text-align: right;\">98</td><td style = \"text-align: right;\">0.105514</td><td style = \"text-align: right;\">1.51786</td><td style = \"text-align: right;\">0.418368</td></tr><tr><td class = \"rowNumber\" style = \"font-weight: bold; text-align: right;\">99</td><td style = \"text-align: right;\">99</td><td style = \"text-align: right;\">0.258119</td><td style = \"text-align: right;\">-0.537345</td><td style = \"text-align: right;\">0.0400795</td></tr><tr><td class = \"rowNumber\" style = \"font-weight: bold; text-align: right;\">100</td><td style = \"text-align: right;\">100</td><td style = \"text-align: right;\">0.888894</td><td style = \"text-align: right;\">0.37708</td><td style = \"text-align: right;\">0.31578</td></tr></tbody></table></div>"
      ]
     },
     "metadata": {},
     "execution_count": 26
    }
   ],
   "cell_type": "code",
   "source": [
    "select!(data, Not(:x2))"
   ],
   "metadata": {},
   "execution_count": 26
  },
  {
   "outputs": [
    {
     "output_type": "execute_result",
     "data": {
      "text/plain": "\u001b[1m5×4 DataFrame\u001b[0m\n\u001b[1m Row \u001b[0m│\u001b[1m id    \u001b[0m\u001b[1m x        \u001b[0m\u001b[1m y         \u001b[0m\u001b[1m z        \u001b[0m\n     │\u001b[90m Int64 \u001b[0m\u001b[90m Float64  \u001b[0m\u001b[90m Float64   \u001b[0m\u001b[90m Float64  \u001b[0m\n─────┼──────────────────────────────────────\n   1 │     1  0.28589    0.527515  0.415746\n   2 │     2  0.389721   1.69565   0.145416\n   3 │     3  0.26454    1.67104   0.968211\n   4 │     4  0.719424  -0.253313  0.122135\n   5 │     5  0.676602   1.90599   0.650245",
      "text/html": [
       "<div><div style = \"float: left;\"><span>5×4 DataFrame</span></div><div style = \"clear: both;\"></div></div><div class = \"data-frame\" style = \"overflow-x: scroll;\"><table class = \"data-frame\" style = \"margin-bottom: 6px;\"><thead><tr class = \"header\"><th class = \"rowNumber\" style = \"font-weight: bold; text-align: right;\">Row</th><th style = \"text-align: left;\">id</th><th style = \"text-align: left;\">x</th><th style = \"text-align: left;\">y</th><th style = \"text-align: left;\">z</th></tr><tr class = \"subheader headerLastRow\"><th class = \"rowNumber\" style = \"font-weight: bold; text-align: right;\"></th><th title = \"Int64\" style = \"text-align: left;\">Int64</th><th title = \"Float64\" style = \"text-align: left;\">Float64</th><th title = \"Float64\" style = \"text-align: left;\">Float64</th><th title = \"Float64\" style = \"text-align: left;\">Float64</th></tr></thead><tbody><tr><td class = \"rowNumber\" style = \"font-weight: bold; text-align: right;\">1</td><td style = \"text-align: right;\">1</td><td style = \"text-align: right;\">0.28589</td><td style = \"text-align: right;\">0.527515</td><td style = \"text-align: right;\">0.415746</td></tr><tr><td class = \"rowNumber\" style = \"font-weight: bold; text-align: right;\">2</td><td style = \"text-align: right;\">2</td><td style = \"text-align: right;\">0.389721</td><td style = \"text-align: right;\">1.69565</td><td style = \"text-align: right;\">0.145416</td></tr><tr><td class = \"rowNumber\" style = \"font-weight: bold; text-align: right;\">3</td><td style = \"text-align: right;\">3</td><td style = \"text-align: right;\">0.26454</td><td style = \"text-align: right;\">1.67104</td><td style = \"text-align: right;\">0.968211</td></tr><tr><td class = \"rowNumber\" style = \"font-weight: bold; text-align: right;\">4</td><td style = \"text-align: right;\">4</td><td style = \"text-align: right;\">0.719424</td><td style = \"text-align: right;\">-0.253313</td><td style = \"text-align: right;\">0.122135</td></tr><tr><td class = \"rowNumber\" style = \"font-weight: bold; text-align: right;\">5</td><td style = \"text-align: right;\">5</td><td style = \"text-align: right;\">0.676602</td><td style = \"text-align: right;\">1.90599</td><td style = \"text-align: right;\">0.650245</td></tr></tbody></table></div>"
      ]
     },
     "metadata": {},
     "execution_count": 27
    }
   ],
   "cell_type": "code",
   "source": [
    "first(data, 5)"
   ],
   "metadata": {},
   "execution_count": 27
  },
  {
   "cell_type": "markdown",
   "source": [
    "Another simple operation is to rename columns:"
   ],
   "metadata": {}
  },
  {
   "outputs": [
    {
     "output_type": "execute_result",
     "data": {
      "text/plain": "\u001b[1m100×4 DataFrame\u001b[0m\n\u001b[1m Row \u001b[0m│\u001b[1m id    \u001b[0m\u001b[1m xnew      \u001b[0m\u001b[1m y          \u001b[0m\u001b[1m znew      \u001b[0m\n     │\u001b[90m Int64 \u001b[0m\u001b[90m Float64   \u001b[0m\u001b[90m Float64    \u001b[0m\u001b[90m Float64   \u001b[0m\n─────┼─────────────────────────────────────────\n   1 │     1  0.28589     0.527515   0.415746\n   2 │     2  0.389721    1.69565    0.145416\n   3 │     3  0.26454     1.67104    0.968211\n   4 │     4  0.719424   -0.253313   0.122135\n   5 │     5  0.676602    1.90599    0.650245\n   6 │     6  0.184079    1.0981     0.908385\n   7 │     7  0.46979    -0.490607   0.368075\n   8 │     8  0.568002   -1.63391    0.63738\n  ⋮  │   ⋮        ⋮          ⋮           ⋮\n  94 │    94  0.441165   -0.0641805  0.19101\n  95 │    95  0.531264   -1.55594    0.648277\n  96 │    96  0.0985509   0.180975   0.797986\n  97 │    97  0.677608    0.326288   0.204293\n  98 │    98  0.105514    1.51786    0.418368\n  99 │    99  0.258119   -0.537345   0.0400795\n 100 │   100  0.888894    0.37708    0.31578\n\u001b[36m                                85 rows omitted\u001b[0m",
      "text/html": [
       "<div><div style = \"float: left;\"><span>100×4 DataFrame</span></div><div style = \"float: right;\"><span style = \"font-style: italic;\">75 rows omitted</span></div><div style = \"clear: both;\"></div></div><div class = \"data-frame\" style = \"overflow-x: scroll;\"><table class = \"data-frame\" style = \"margin-bottom: 6px;\"><thead><tr class = \"header\"><th class = \"rowNumber\" style = \"font-weight: bold; text-align: right;\">Row</th><th style = \"text-align: left;\">id</th><th style = \"text-align: left;\">xnew</th><th style = \"text-align: left;\">y</th><th style = \"text-align: left;\">znew</th></tr><tr class = \"subheader headerLastRow\"><th class = \"rowNumber\" style = \"font-weight: bold; text-align: right;\"></th><th title = \"Int64\" style = \"text-align: left;\">Int64</th><th title = \"Float64\" style = \"text-align: left;\">Float64</th><th title = \"Float64\" style = \"text-align: left;\">Float64</th><th title = \"Float64\" style = \"text-align: left;\">Float64</th></tr></thead><tbody><tr><td class = \"rowNumber\" style = \"font-weight: bold; text-align: right;\">1</td><td style = \"text-align: right;\">1</td><td style = \"text-align: right;\">0.28589</td><td style = \"text-align: right;\">0.527515</td><td style = \"text-align: right;\">0.415746</td></tr><tr><td class = \"rowNumber\" style = \"font-weight: bold; text-align: right;\">2</td><td style = \"text-align: right;\">2</td><td style = \"text-align: right;\">0.389721</td><td style = \"text-align: right;\">1.69565</td><td style = \"text-align: right;\">0.145416</td></tr><tr><td class = \"rowNumber\" style = \"font-weight: bold; text-align: right;\">3</td><td style = \"text-align: right;\">3</td><td style = \"text-align: right;\">0.26454</td><td style = \"text-align: right;\">1.67104</td><td style = \"text-align: right;\">0.968211</td></tr><tr><td class = \"rowNumber\" style = \"font-weight: bold; text-align: right;\">4</td><td style = \"text-align: right;\">4</td><td style = \"text-align: right;\">0.719424</td><td style = \"text-align: right;\">-0.253313</td><td style = \"text-align: right;\">0.122135</td></tr><tr><td class = \"rowNumber\" style = \"font-weight: bold; text-align: right;\">5</td><td style = \"text-align: right;\">5</td><td style = \"text-align: right;\">0.676602</td><td style = \"text-align: right;\">1.90599</td><td style = \"text-align: right;\">0.650245</td></tr><tr><td class = \"rowNumber\" style = \"font-weight: bold; text-align: right;\">6</td><td style = \"text-align: right;\">6</td><td style = \"text-align: right;\">0.184079</td><td style = \"text-align: right;\">1.0981</td><td style = \"text-align: right;\">0.908385</td></tr><tr><td class = \"rowNumber\" style = \"font-weight: bold; text-align: right;\">7</td><td style = \"text-align: right;\">7</td><td style = \"text-align: right;\">0.46979</td><td style = \"text-align: right;\">-0.490607</td><td style = \"text-align: right;\">0.368075</td></tr><tr><td class = \"rowNumber\" style = \"font-weight: bold; text-align: right;\">8</td><td style = \"text-align: right;\">8</td><td style = \"text-align: right;\">0.568002</td><td style = \"text-align: right;\">-1.63391</td><td style = \"text-align: right;\">0.63738</td></tr><tr><td class = \"rowNumber\" style = \"font-weight: bold; text-align: right;\">9</td><td style = \"text-align: right;\">9</td><td style = \"text-align: right;\">0.51084</td><td style = \"text-align: right;\">0.526118</td><td style = \"text-align: right;\">0.853006</td></tr><tr><td class = \"rowNumber\" style = \"font-weight: bold; text-align: right;\">10</td><td style = \"text-align: right;\">10</td><td style = \"text-align: right;\">0.350315</td><td style = \"text-align: right;\">-1.75928</td><td style = \"text-align: right;\">0.260641</td></tr><tr><td class = \"rowNumber\" style = \"font-weight: bold; text-align: right;\">11</td><td style = \"text-align: right;\">11</td><td style = \"text-align: right;\">0.939279</td><td style = \"text-align: right;\">-0.434014</td><td style = \"text-align: right;\">0.445841</td></tr><tr><td class = \"rowNumber\" style = \"font-weight: bold; text-align: right;\">12</td><td style = \"text-align: right;\">12</td><td style = \"text-align: right;\">0.164889</td><td style = \"text-align: right;\">0.780157</td><td style = \"text-align: right;\">0.722329</td></tr><tr><td class = \"rowNumber\" style = \"font-weight: bold; text-align: right;\">13</td><td style = \"text-align: right;\">13</td><td style = \"text-align: right;\">0.883069</td><td style = \"text-align: right;\">0.0931702</td><td style = \"text-align: right;\">0.753754</td></tr><tr><td style = \"text-align: right;\">&vellip;</td><td style = \"text-align: right;\">&vellip;</td><td style = \"text-align: right;\">&vellip;</td><td style = \"text-align: right;\">&vellip;</td><td style = \"text-align: right;\">&vellip;</td></tr><tr><td class = \"rowNumber\" style = \"font-weight: bold; text-align: right;\">89</td><td style = \"text-align: right;\">89</td><td style = \"text-align: right;\">0.0307357</td><td style = \"text-align: right;\">-1.04739</td><td style = \"text-align: right;\">0.67941</td></tr><tr><td class = \"rowNumber\" style = \"font-weight: bold; text-align: right;\">90</td><td style = \"text-align: right;\">90</td><td style = \"text-align: right;\">0.142126</td><td style = \"text-align: right;\">0.56028</td><td style = \"text-align: right;\">0.0526395</td></tr><tr><td class = \"rowNumber\" style = \"font-weight: bold; text-align: right;\">91</td><td style = \"text-align: right;\">91</td><td style = \"text-align: right;\">0.849497</td><td style = \"text-align: right;\">0.996262</td><td style = \"text-align: right;\">0.0411288</td></tr><tr><td class = \"rowNumber\" style = \"font-weight: bold; text-align: right;\">92</td><td style = \"text-align: right;\">92</td><td style = \"text-align: right;\">0.505502</td><td style = \"text-align: right;\">-0.134088</td><td style = \"text-align: right;\">0.463698</td></tr><tr><td class = \"rowNumber\" style = \"font-weight: bold; text-align: right;\">93</td><td style = \"text-align: right;\">93</td><td style = \"text-align: right;\">0.201993</td><td style = \"text-align: right;\">-0.358279</td><td style = \"text-align: right;\">0.495081</td></tr><tr><td class = \"rowNumber\" style = \"font-weight: bold; text-align: right;\">94</td><td style = \"text-align: right;\">94</td><td style = \"text-align: right;\">0.441165</td><td style = \"text-align: right;\">-0.0641805</td><td style = \"text-align: right;\">0.19101</td></tr><tr><td class = \"rowNumber\" style = \"font-weight: bold; text-align: right;\">95</td><td style = \"text-align: right;\">95</td><td style = \"text-align: right;\">0.531264</td><td style = \"text-align: right;\">-1.55594</td><td style = \"text-align: right;\">0.648277</td></tr><tr><td class = \"rowNumber\" style = \"font-weight: bold; text-align: right;\">96</td><td style = \"text-align: right;\">96</td><td style = \"text-align: right;\">0.0985509</td><td style = \"text-align: right;\">0.180975</td><td style = \"text-align: right;\">0.797986</td></tr><tr><td class = \"rowNumber\" style = \"font-weight: bold; text-align: right;\">97</td><td style = \"text-align: right;\">97</td><td style = \"text-align: right;\">0.677608</td><td style = \"text-align: right;\">0.326288</td><td style = \"text-align: right;\">0.204293</td></tr><tr><td class = \"rowNumber\" style = \"font-weight: bold; text-align: right;\">98</td><td style = \"text-align: right;\">98</td><td style = \"text-align: right;\">0.105514</td><td style = \"text-align: right;\">1.51786</td><td style = \"text-align: right;\">0.418368</td></tr><tr><td class = \"rowNumber\" style = \"font-weight: bold; text-align: right;\">99</td><td style = \"text-align: right;\">99</td><td style = \"text-align: right;\">0.258119</td><td style = \"text-align: right;\">-0.537345</td><td style = \"text-align: right;\">0.0400795</td></tr><tr><td class = \"rowNumber\" style = \"font-weight: bold; text-align: right;\">100</td><td style = \"text-align: right;\">100</td><td style = \"text-align: right;\">0.888894</td><td style = \"text-align: right;\">0.37708</td><td style = \"text-align: right;\">0.31578</td></tr></tbody></table></div>"
      ]
     },
     "metadata": {},
     "execution_count": 28
    }
   ],
   "cell_type": "code",
   "source": [
    "rename(data, :x => :xnew, :z => :znew)"
   ],
   "metadata": {},
   "execution_count": 28
  },
  {
   "outputs": [
    {
     "output_type": "execute_result",
     "data": {
      "text/plain": "\u001b[1m100×4 DataFrame\u001b[0m\n\u001b[1m Row \u001b[0m│\u001b[1m id    \u001b[0m\u001b[1m xnew      \u001b[0m\u001b[1m y          \u001b[0m\u001b[1m znew      \u001b[0m\n     │\u001b[90m Int64 \u001b[0m\u001b[90m Float64   \u001b[0m\u001b[90m Float64    \u001b[0m\u001b[90m Float64   \u001b[0m\n─────┼─────────────────────────────────────────\n   1 │     1  0.28589     0.527515   0.415746\n   2 │     2  0.389721    1.69565    0.145416\n   3 │     3  0.26454     1.67104    0.968211\n   4 │     4  0.719424   -0.253313   0.122135\n   5 │     5  0.676602    1.90599    0.650245\n   6 │     6  0.184079    1.0981     0.908385\n   7 │     7  0.46979    -0.490607   0.368075\n   8 │     8  0.568002   -1.63391    0.63738\n  ⋮  │   ⋮        ⋮          ⋮           ⋮\n  94 │    94  0.441165   -0.0641805  0.19101\n  95 │    95  0.531264   -1.55594    0.648277\n  96 │    96  0.0985509   0.180975   0.797986\n  97 │    97  0.677608    0.326288   0.204293\n  98 │    98  0.105514    1.51786    0.418368\n  99 │    99  0.258119   -0.537345   0.0400795\n 100 │   100  0.888894    0.37708    0.31578\n\u001b[36m                                85 rows omitted\u001b[0m",
      "text/html": [
       "<div><div style = \"float: left;\"><span>100×4 DataFrame</span></div><div style = \"float: right;\"><span style = \"font-style: italic;\">75 rows omitted</span></div><div style = \"clear: both;\"></div></div><div class = \"data-frame\" style = \"overflow-x: scroll;\"><table class = \"data-frame\" style = \"margin-bottom: 6px;\"><thead><tr class = \"header\"><th class = \"rowNumber\" style = \"font-weight: bold; text-align: right;\">Row</th><th style = \"text-align: left;\">id</th><th style = \"text-align: left;\">xnew</th><th style = \"text-align: left;\">y</th><th style = \"text-align: left;\">znew</th></tr><tr class = \"subheader headerLastRow\"><th class = \"rowNumber\" style = \"font-weight: bold; text-align: right;\"></th><th title = \"Int64\" style = \"text-align: left;\">Int64</th><th title = \"Float64\" style = \"text-align: left;\">Float64</th><th title = \"Float64\" style = \"text-align: left;\">Float64</th><th title = \"Float64\" style = \"text-align: left;\">Float64</th></tr></thead><tbody><tr><td class = \"rowNumber\" style = \"font-weight: bold; text-align: right;\">1</td><td style = \"text-align: right;\">1</td><td style = \"text-align: right;\">0.28589</td><td style = \"text-align: right;\">0.527515</td><td style = \"text-align: right;\">0.415746</td></tr><tr><td class = \"rowNumber\" style = \"font-weight: bold; text-align: right;\">2</td><td style = \"text-align: right;\">2</td><td style = \"text-align: right;\">0.389721</td><td style = \"text-align: right;\">1.69565</td><td style = \"text-align: right;\">0.145416</td></tr><tr><td class = \"rowNumber\" style = \"font-weight: bold; text-align: right;\">3</td><td style = \"text-align: right;\">3</td><td style = \"text-align: right;\">0.26454</td><td style = \"text-align: right;\">1.67104</td><td style = \"text-align: right;\">0.968211</td></tr><tr><td class = \"rowNumber\" style = \"font-weight: bold; text-align: right;\">4</td><td style = \"text-align: right;\">4</td><td style = \"text-align: right;\">0.719424</td><td style = \"text-align: right;\">-0.253313</td><td style = \"text-align: right;\">0.122135</td></tr><tr><td class = \"rowNumber\" style = \"font-weight: bold; text-align: right;\">5</td><td style = \"text-align: right;\">5</td><td style = \"text-align: right;\">0.676602</td><td style = \"text-align: right;\">1.90599</td><td style = \"text-align: right;\">0.650245</td></tr><tr><td class = \"rowNumber\" style = \"font-weight: bold; text-align: right;\">6</td><td style = \"text-align: right;\">6</td><td style = \"text-align: right;\">0.184079</td><td style = \"text-align: right;\">1.0981</td><td style = \"text-align: right;\">0.908385</td></tr><tr><td class = \"rowNumber\" style = \"font-weight: bold; text-align: right;\">7</td><td style = \"text-align: right;\">7</td><td style = \"text-align: right;\">0.46979</td><td style = \"text-align: right;\">-0.490607</td><td style = \"text-align: right;\">0.368075</td></tr><tr><td class = \"rowNumber\" style = \"font-weight: bold; text-align: right;\">8</td><td style = \"text-align: right;\">8</td><td style = \"text-align: right;\">0.568002</td><td style = \"text-align: right;\">-1.63391</td><td style = \"text-align: right;\">0.63738</td></tr><tr><td class = \"rowNumber\" style = \"font-weight: bold; text-align: right;\">9</td><td style = \"text-align: right;\">9</td><td style = \"text-align: right;\">0.51084</td><td style = \"text-align: right;\">0.526118</td><td style = \"text-align: right;\">0.853006</td></tr><tr><td class = \"rowNumber\" style = \"font-weight: bold; text-align: right;\">10</td><td style = \"text-align: right;\">10</td><td style = \"text-align: right;\">0.350315</td><td style = \"text-align: right;\">-1.75928</td><td style = \"text-align: right;\">0.260641</td></tr><tr><td class = \"rowNumber\" style = \"font-weight: bold; text-align: right;\">11</td><td style = \"text-align: right;\">11</td><td style = \"text-align: right;\">0.939279</td><td style = \"text-align: right;\">-0.434014</td><td style = \"text-align: right;\">0.445841</td></tr><tr><td class = \"rowNumber\" style = \"font-weight: bold; text-align: right;\">12</td><td style = \"text-align: right;\">12</td><td style = \"text-align: right;\">0.164889</td><td style = \"text-align: right;\">0.780157</td><td style = \"text-align: right;\">0.722329</td></tr><tr><td class = \"rowNumber\" style = \"font-weight: bold; text-align: right;\">13</td><td style = \"text-align: right;\">13</td><td style = \"text-align: right;\">0.883069</td><td style = \"text-align: right;\">0.0931702</td><td style = \"text-align: right;\">0.753754</td></tr><tr><td style = \"text-align: right;\">&vellip;</td><td style = \"text-align: right;\">&vellip;</td><td style = \"text-align: right;\">&vellip;</td><td style = \"text-align: right;\">&vellip;</td><td style = \"text-align: right;\">&vellip;</td></tr><tr><td class = \"rowNumber\" style = \"font-weight: bold; text-align: right;\">89</td><td style = \"text-align: right;\">89</td><td style = \"text-align: right;\">0.0307357</td><td style = \"text-align: right;\">-1.04739</td><td style = \"text-align: right;\">0.67941</td></tr><tr><td class = \"rowNumber\" style = \"font-weight: bold; text-align: right;\">90</td><td style = \"text-align: right;\">90</td><td style = \"text-align: right;\">0.142126</td><td style = \"text-align: right;\">0.56028</td><td style = \"text-align: right;\">0.0526395</td></tr><tr><td class = \"rowNumber\" style = \"font-weight: bold; text-align: right;\">91</td><td style = \"text-align: right;\">91</td><td style = \"text-align: right;\">0.849497</td><td style = \"text-align: right;\">0.996262</td><td style = \"text-align: right;\">0.0411288</td></tr><tr><td class = \"rowNumber\" style = \"font-weight: bold; text-align: right;\">92</td><td style = \"text-align: right;\">92</td><td style = \"text-align: right;\">0.505502</td><td style = \"text-align: right;\">-0.134088</td><td style = \"text-align: right;\">0.463698</td></tr><tr><td class = \"rowNumber\" style = \"font-weight: bold; text-align: right;\">93</td><td style = \"text-align: right;\">93</td><td style = \"text-align: right;\">0.201993</td><td style = \"text-align: right;\">-0.358279</td><td style = \"text-align: right;\">0.495081</td></tr><tr><td class = \"rowNumber\" style = \"font-weight: bold; text-align: right;\">94</td><td style = \"text-align: right;\">94</td><td style = \"text-align: right;\">0.441165</td><td style = \"text-align: right;\">-0.0641805</td><td style = \"text-align: right;\">0.19101</td></tr><tr><td class = \"rowNumber\" style = \"font-weight: bold; text-align: right;\">95</td><td style = \"text-align: right;\">95</td><td style = \"text-align: right;\">0.531264</td><td style = \"text-align: right;\">-1.55594</td><td style = \"text-align: right;\">0.648277</td></tr><tr><td class = \"rowNumber\" style = \"font-weight: bold; text-align: right;\">96</td><td style = \"text-align: right;\">96</td><td style = \"text-align: right;\">0.0985509</td><td style = \"text-align: right;\">0.180975</td><td style = \"text-align: right;\">0.797986</td></tr><tr><td class = \"rowNumber\" style = \"font-weight: bold; text-align: right;\">97</td><td style = \"text-align: right;\">97</td><td style = \"text-align: right;\">0.677608</td><td style = \"text-align: right;\">0.326288</td><td style = \"text-align: right;\">0.204293</td></tr><tr><td class = \"rowNumber\" style = \"font-weight: bold; text-align: right;\">98</td><td style = \"text-align: right;\">98</td><td style = \"text-align: right;\">0.105514</td><td style = \"text-align: right;\">1.51786</td><td style = \"text-align: right;\">0.418368</td></tr><tr><td class = \"rowNumber\" style = \"font-weight: bold; text-align: right;\">99</td><td style = \"text-align: right;\">99</td><td style = \"text-align: right;\">0.258119</td><td style = \"text-align: right;\">-0.537345</td><td style = \"text-align: right;\">0.0400795</td></tr><tr><td class = \"rowNumber\" style = \"font-weight: bold; text-align: right;\">100</td><td style = \"text-align: right;\">100</td><td style = \"text-align: right;\">0.888894</td><td style = \"text-align: right;\">0.37708</td><td style = \"text-align: right;\">0.31578</td></tr></tbody></table></div>"
      ]
     },
     "metadata": {},
     "execution_count": 29
    }
   ],
   "cell_type": "code",
   "source": [
    "rename(data, [:x, :z] .=> [:xnew, :znew])"
   ],
   "metadata": {},
   "execution_count": 29
  },
  {
   "outputs": [
    {
     "output_type": "execute_result",
     "data": {
      "text/plain": "\u001b[1m100×4 DataFrame\u001b[0m\n\u001b[1m Row \u001b[0m│\u001b[1m id_new \u001b[0m\u001b[1m x_new     \u001b[0m\u001b[1m y_new      \u001b[0m\u001b[1m z_new     \u001b[0m\n     │\u001b[90m Int64  \u001b[0m\u001b[90m Float64   \u001b[0m\u001b[90m Float64    \u001b[0m\u001b[90m Float64   \u001b[0m\n─────┼──────────────────────────────────────────\n   1 │      1  0.28589     0.527515   0.415746\n   2 │      2  0.389721    1.69565    0.145416\n   3 │      3  0.26454     1.67104    0.968211\n   4 │      4  0.719424   -0.253313   0.122135\n   5 │      5  0.676602    1.90599    0.650245\n   6 │      6  0.184079    1.0981     0.908385\n   7 │      7  0.46979    -0.490607   0.368075\n   8 │      8  0.568002   -1.63391    0.63738\n  ⋮  │   ⋮         ⋮          ⋮           ⋮\n  94 │     94  0.441165   -0.0641805  0.19101\n  95 │     95  0.531264   -1.55594    0.648277\n  96 │     96  0.0985509   0.180975   0.797986\n  97 │     97  0.677608    0.326288   0.204293\n  98 │     98  0.105514    1.51786    0.418368\n  99 │     99  0.258119   -0.537345   0.0400795\n 100 │    100  0.888894    0.37708    0.31578\n\u001b[36m                                 85 rows omitted\u001b[0m",
      "text/html": [
       "<div><div style = \"float: left;\"><span>100×4 DataFrame</span></div><div style = \"float: right;\"><span style = \"font-style: italic;\">75 rows omitted</span></div><div style = \"clear: both;\"></div></div><div class = \"data-frame\" style = \"overflow-x: scroll;\"><table class = \"data-frame\" style = \"margin-bottom: 6px;\"><thead><tr class = \"header\"><th class = \"rowNumber\" style = \"font-weight: bold; text-align: right;\">Row</th><th style = \"text-align: left;\">id_new</th><th style = \"text-align: left;\">x_new</th><th style = \"text-align: left;\">y_new</th><th style = \"text-align: left;\">z_new</th></tr><tr class = \"subheader headerLastRow\"><th class = \"rowNumber\" style = \"font-weight: bold; text-align: right;\"></th><th title = \"Int64\" style = \"text-align: left;\">Int64</th><th title = \"Float64\" style = \"text-align: left;\">Float64</th><th title = \"Float64\" style = \"text-align: left;\">Float64</th><th title = \"Float64\" style = \"text-align: left;\">Float64</th></tr></thead><tbody><tr><td class = \"rowNumber\" style = \"font-weight: bold; text-align: right;\">1</td><td style = \"text-align: right;\">1</td><td style = \"text-align: right;\">0.28589</td><td style = \"text-align: right;\">0.527515</td><td style = \"text-align: right;\">0.415746</td></tr><tr><td class = \"rowNumber\" style = \"font-weight: bold; text-align: right;\">2</td><td style = \"text-align: right;\">2</td><td style = \"text-align: right;\">0.389721</td><td style = \"text-align: right;\">1.69565</td><td style = \"text-align: right;\">0.145416</td></tr><tr><td class = \"rowNumber\" style = \"font-weight: bold; text-align: right;\">3</td><td style = \"text-align: right;\">3</td><td style = \"text-align: right;\">0.26454</td><td style = \"text-align: right;\">1.67104</td><td style = \"text-align: right;\">0.968211</td></tr><tr><td class = \"rowNumber\" style = \"font-weight: bold; text-align: right;\">4</td><td style = \"text-align: right;\">4</td><td style = \"text-align: right;\">0.719424</td><td style = \"text-align: right;\">-0.253313</td><td style = \"text-align: right;\">0.122135</td></tr><tr><td class = \"rowNumber\" style = \"font-weight: bold; text-align: right;\">5</td><td style = \"text-align: right;\">5</td><td style = \"text-align: right;\">0.676602</td><td style = \"text-align: right;\">1.90599</td><td style = \"text-align: right;\">0.650245</td></tr><tr><td class = \"rowNumber\" style = \"font-weight: bold; text-align: right;\">6</td><td style = \"text-align: right;\">6</td><td style = \"text-align: right;\">0.184079</td><td style = \"text-align: right;\">1.0981</td><td style = \"text-align: right;\">0.908385</td></tr><tr><td class = \"rowNumber\" style = \"font-weight: bold; text-align: right;\">7</td><td style = \"text-align: right;\">7</td><td style = \"text-align: right;\">0.46979</td><td style = \"text-align: right;\">-0.490607</td><td style = \"text-align: right;\">0.368075</td></tr><tr><td class = \"rowNumber\" style = \"font-weight: bold; text-align: right;\">8</td><td style = \"text-align: right;\">8</td><td style = \"text-align: right;\">0.568002</td><td style = \"text-align: right;\">-1.63391</td><td style = \"text-align: right;\">0.63738</td></tr><tr><td class = \"rowNumber\" style = \"font-weight: bold; text-align: right;\">9</td><td style = \"text-align: right;\">9</td><td style = \"text-align: right;\">0.51084</td><td style = \"text-align: right;\">0.526118</td><td style = \"text-align: right;\">0.853006</td></tr><tr><td class = \"rowNumber\" style = \"font-weight: bold; text-align: right;\">10</td><td style = \"text-align: right;\">10</td><td style = \"text-align: right;\">0.350315</td><td style = \"text-align: right;\">-1.75928</td><td style = \"text-align: right;\">0.260641</td></tr><tr><td class = \"rowNumber\" style = \"font-weight: bold; text-align: right;\">11</td><td style = \"text-align: right;\">11</td><td style = \"text-align: right;\">0.939279</td><td style = \"text-align: right;\">-0.434014</td><td style = \"text-align: right;\">0.445841</td></tr><tr><td class = \"rowNumber\" style = \"font-weight: bold; text-align: right;\">12</td><td style = \"text-align: right;\">12</td><td style = \"text-align: right;\">0.164889</td><td style = \"text-align: right;\">0.780157</td><td style = \"text-align: right;\">0.722329</td></tr><tr><td class = \"rowNumber\" style = \"font-weight: bold; text-align: right;\">13</td><td style = \"text-align: right;\">13</td><td style = \"text-align: right;\">0.883069</td><td style = \"text-align: right;\">0.0931702</td><td style = \"text-align: right;\">0.753754</td></tr><tr><td style = \"text-align: right;\">&vellip;</td><td style = \"text-align: right;\">&vellip;</td><td style = \"text-align: right;\">&vellip;</td><td style = \"text-align: right;\">&vellip;</td><td style = \"text-align: right;\">&vellip;</td></tr><tr><td class = \"rowNumber\" style = \"font-weight: bold; text-align: right;\">89</td><td style = \"text-align: right;\">89</td><td style = \"text-align: right;\">0.0307357</td><td style = \"text-align: right;\">-1.04739</td><td style = \"text-align: right;\">0.67941</td></tr><tr><td class = \"rowNumber\" style = \"font-weight: bold; text-align: right;\">90</td><td style = \"text-align: right;\">90</td><td style = \"text-align: right;\">0.142126</td><td style = \"text-align: right;\">0.56028</td><td style = \"text-align: right;\">0.0526395</td></tr><tr><td class = \"rowNumber\" style = \"font-weight: bold; text-align: right;\">91</td><td style = \"text-align: right;\">91</td><td style = \"text-align: right;\">0.849497</td><td style = \"text-align: right;\">0.996262</td><td style = \"text-align: right;\">0.0411288</td></tr><tr><td class = \"rowNumber\" style = \"font-weight: bold; text-align: right;\">92</td><td style = \"text-align: right;\">92</td><td style = \"text-align: right;\">0.505502</td><td style = \"text-align: right;\">-0.134088</td><td style = \"text-align: right;\">0.463698</td></tr><tr><td class = \"rowNumber\" style = \"font-weight: bold; text-align: right;\">93</td><td style = \"text-align: right;\">93</td><td style = \"text-align: right;\">0.201993</td><td style = \"text-align: right;\">-0.358279</td><td style = \"text-align: right;\">0.495081</td></tr><tr><td class = \"rowNumber\" style = \"font-weight: bold; text-align: right;\">94</td><td style = \"text-align: right;\">94</td><td style = \"text-align: right;\">0.441165</td><td style = \"text-align: right;\">-0.0641805</td><td style = \"text-align: right;\">0.19101</td></tr><tr><td class = \"rowNumber\" style = \"font-weight: bold; text-align: right;\">95</td><td style = \"text-align: right;\">95</td><td style = \"text-align: right;\">0.531264</td><td style = \"text-align: right;\">-1.55594</td><td style = \"text-align: right;\">0.648277</td></tr><tr><td class = \"rowNumber\" style = \"font-weight: bold; text-align: right;\">96</td><td style = \"text-align: right;\">96</td><td style = \"text-align: right;\">0.0985509</td><td style = \"text-align: right;\">0.180975</td><td style = \"text-align: right;\">0.797986</td></tr><tr><td class = \"rowNumber\" style = \"font-weight: bold; text-align: right;\">97</td><td style = \"text-align: right;\">97</td><td style = \"text-align: right;\">0.677608</td><td style = \"text-align: right;\">0.326288</td><td style = \"text-align: right;\">0.204293</td></tr><tr><td class = \"rowNumber\" style = \"font-weight: bold; text-align: right;\">98</td><td style = \"text-align: right;\">98</td><td style = \"text-align: right;\">0.105514</td><td style = \"text-align: right;\">1.51786</td><td style = \"text-align: right;\">0.418368</td></tr><tr><td class = \"rowNumber\" style = \"font-weight: bold; text-align: right;\">99</td><td style = \"text-align: right;\">99</td><td style = \"text-align: right;\">0.258119</td><td style = \"text-align: right;\">-0.537345</td><td style = \"text-align: right;\">0.0400795</td></tr><tr><td class = \"rowNumber\" style = \"font-weight: bold; text-align: right;\">100</td><td style = \"text-align: right;\">100</td><td style = \"text-align: right;\">0.888894</td><td style = \"text-align: right;\">0.37708</td><td style = \"text-align: right;\">0.31578</td></tr></tbody></table></div>"
      ]
     },
     "metadata": {},
     "execution_count": 30
    }
   ],
   "cell_type": "code",
   "source": [
    "rename(var -> var * \"_new\", data)"
   ],
   "metadata": {},
   "execution_count": 30
  },
  {
   "cell_type": "markdown",
   "source": [
    "Remember to use `rename!` to actually make the changes on the original dataset."
   ],
   "metadata": {}
  },
  {
   "cell_type": "markdown",
   "source": [
    "---\n",
    "\n",
    "*This notebook was generated using [Literate.jl](https://github.com/fredrikekre/Literate.jl).*"
   ],
   "metadata": {}
  }
 ],
 "nbformat_minor": 3,
 "metadata": {
  "language_info": {
   "file_extension": ".jl",
   "mimetype": "application/julia",
   "name": "julia",
   "version": "1.11.1"
  },
  "kernelspec": {
   "name": "julia-1.11",
   "display_name": "Julia 1.11.1",
   "language": "julia"
  }
 },
 "nbformat": 4
}
