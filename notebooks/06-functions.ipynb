{
 "cells": [
  {
   "cell_type": "markdown",
   "source": [
    "# Functions\n",
    "\n",
    "A function is an object mapping a tuple of arguments to a return value.\n",
    "\n",
    "## Basic syntax\n",
    "\n",
    "A standard way of defining a function in `julia` is using a block with definition, body\n",
    "and return value."
   ],
   "metadata": {}
  },
  {
   "outputs": [
    {
     "output_type": "execute_result",
     "data": {
      "text/plain": "4"
     },
     "metadata": {},
     "execution_count": 1
    }
   ],
   "cell_type": "code",
   "source": [
    "function f(x, y)\n",
    "    z = x + y\n",
    "    return z\n",
    "end\n",
    "f(1, 3)"
   ],
   "metadata": {},
   "execution_count": 1
  },
  {
   "cell_type": "markdown",
   "source": [
    "When return is omited, the return value is the last evaluated expression."
   ],
   "metadata": {}
  },
  {
   "outputs": [
    {
     "output_type": "execute_result",
     "data": {
      "text/plain": "4"
     },
     "metadata": {},
     "execution_count": 2
    }
   ],
   "cell_type": "code",
   "source": [
    "function f(x, y)\n",
    "  x + y\n",
    "end\n",
    "f(1, 3)"
   ],
   "metadata": {},
   "execution_count": 2
  },
  {
   "cell_type": "markdown",
   "source": [
    "There is also an alternative syntax to define *short functions* that is quite similar to\n",
    "the definition of functions in mathematics."
   ],
   "metadata": {}
  },
  {
   "outputs": [
    {
     "output_type": "execute_result",
     "data": {
      "text/plain": "4"
     },
     "metadata": {},
     "execution_count": 3
    }
   ],
   "cell_type": "code",
   "source": [
    "f(x, y) = x + y\n",
    "f(1, 3)"
   ],
   "metadata": {},
   "execution_count": 3
  },
  {
   "cell_type": "markdown",
   "source": [
    "It is possible to use unicode names."
   ],
   "metadata": {}
  },
  {
   "outputs": [
    {
     "output_type": "execute_result",
     "data": {
      "text/plain": "4"
     },
     "metadata": {},
     "execution_count": 4
    }
   ],
   "cell_type": "code",
   "source": [
    "ρ(x, y) = x + y\n",
    "ρ(1, 3)"
   ],
   "metadata": {},
   "execution_count": 4
  },
  {
   "cell_type": "markdown",
   "source": [
    "Anonymous functions can also be defined using the syntax `x -> x ^ 2`, meaning that the\n",
    "function takes `x` and convert this to `x ^ 2`. This type of function is useful for\n",
    "functional programming. For example, to apply a particular function to a set of values\n",
    "using the `map` function."
   ],
   "metadata": {}
  },
  {
   "outputs": [
    {
     "output_type": "execute_result",
     "data": {
      "text/plain": "3-element Vector{Int64}:\n  1\n  5\n -3"
     },
     "metadata": {},
     "execution_count": 5
    }
   ],
   "cell_type": "code",
   "source": [
    "map(x -> 2x - 1, [1, 3, -1])"
   ],
   "metadata": {},
   "execution_count": 5
  },
  {
   "cell_type": "markdown",
   "source": [
    "## Return values\n",
    "\n",
    "We can define the output type of the function"
   ],
   "metadata": {}
  },
  {
   "outputs": [
    {
     "output_type": "execute_result",
     "data": {
      "text/plain": "Int8"
     },
     "metadata": {},
     "execution_count": 6
    }
   ],
   "cell_type": "code",
   "source": [
    "function g(x, y)::Int8\n",
    "    return x * y\n",
    "end\n",
    "typeof(g(3, 2))"
   ],
   "metadata": {},
   "execution_count": 6
  },
  {
   "cell_type": "markdown",
   "source": [
    "It is a convention to return nothing when the function does not need to return a value."
   ],
   "metadata": {}
  },
  {
   "outputs": [
    {
     "name": "stdout",
     "output_type": "stream",
     "text": [
      "x = 10.0\n"
     ]
    }
   ],
   "cell_type": "code",
   "source": [
    "function printx(x)\n",
    "    println(\"x = $x\")\n",
    "    return nothing\n",
    "end\n",
    "printx(10.0)"
   ],
   "metadata": {},
   "execution_count": 7
  },
  {
   "cell_type": "markdown",
   "source": [
    "Multiple values can be returned using tuple's syntax."
   ],
   "metadata": {}
  },
  {
   "outputs": [
    {
     "output_type": "execute_result",
     "data": {
      "text/plain": "maxmin (generic function with 1 method)"
     },
     "metadata": {},
     "execution_count": 8
    }
   ],
   "cell_type": "code",
   "source": [
    "function maxmin(x, y)\n",
    "    return max(x, y), min(x, y)\n",
    "end"
   ],
   "metadata": {},
   "execution_count": 8
  },
  {
   "outputs": [
    {
     "output_type": "execute_result",
     "data": {
      "text/plain": "(3.0, 2.0)"
     },
     "metadata": {},
     "execution_count": 9
    }
   ],
   "cell_type": "code",
   "source": [
    "maxmin(2, 3.0)"
   ],
   "metadata": {},
   "execution_count": 9
  },
  {
   "outputs": [
    {
     "output_type": "execute_result",
     "data": {
      "text/plain": "Tuple{Float64, Float64}"
     },
     "metadata": {},
     "execution_count": 10
    }
   ],
   "cell_type": "code",
   "source": [
    "typeof(maxmin(2, 3.0))"
   ],
   "metadata": {},
   "execution_count": 10
  },
  {
   "outputs": [
    {
     "output_type": "execute_result",
     "data": {
      "text/plain": "(3.0, 2.0)"
     },
     "metadata": {},
     "execution_count": 11
    }
   ],
   "cell_type": "code",
   "source": [
    "a, b = maxmin(2, 3.0)"
   ],
   "metadata": {},
   "execution_count": 11
  },
  {
   "cell_type": "markdown",
   "source": [
    "## Multiple dispatching\n",
    "\n",
    "A main feature of `julia` is multiple dispatching, meaning that it accepts multiple\n",
    "definitions of a function with different number of arguments, or different argument\n",
    "types. Then, the method called for evaluation will depend on the types of the arguments.\n",
    "Remember that `::` is used to define the `Type`."
   ],
   "metadata": {}
  },
  {
   "outputs": [
    {
     "name": "stdout",
     "output_type": "stream",
     "text": [
      "1 is an integer and hola is an string.\n"
     ]
    }
   ],
   "cell_type": "code",
   "source": [
    "function concatenate(x::Int, y::String)\n",
    "    println(\"$x is an integer and $y is an string.\")\n",
    "end\n",
    "concatenate(1, \"hola\")"
   ],
   "metadata": {},
   "execution_count": 12
  },
  {
   "outputs": [
    {
     "output_type": "execute_result",
     "data": {
      "text/plain": "\"HolaErick\""
     },
     "metadata": {},
     "execution_count": 13
    }
   ],
   "cell_type": "code",
   "source": [
    "function concatenate(x::String, y::String)\n",
    "    x * y\n",
    "end\n",
    "concatenate(\"Hola\", \"Erick\")"
   ],
   "metadata": {},
   "execution_count": 13
  },
  {
   "cell_type": "markdown",
   "source": [
    "Try the following: `concatenate(10,10)`. Can you guess what happens?"
   ],
   "metadata": {}
  },
  {
   "cell_type": "markdown",
   "source": [
    "## Keyword arguments\n",
    "\n",
    "Given that `julia` functions works with multiple dispatching, the order of the arguments\n",
    "is important. In situations where we need several arguments, it might become complicated\n",
    "to remember the order. For those cases, we can use *keyword arguments* such us the name\n",
    "of the argument is followed by the value. These keyword arguments can be included after\n",
    "the arguments using a `;` as separation.\n",
    "\n",
    "```julia\n",
    "function myplot(x, y; color = \"black\", linewidth = 2)\n",
    "    #\n",
    "end\n",
    "myplot(x, y; color = \"red\")\n",
    "```\n",
    "\n",
    "Functions with an indefinite number of keyword arguments can also be defined.\n",
    "\n",
    "```julia\n",
    "function myplot(x, y; kwargs...)\n",
    "    plot(x, y; kwargs...)\n",
    "end\n",
    "myplot(x, y; color = \"red\")\n",
    "```"
   ],
   "metadata": {}
  },
  {
   "cell_type": "markdown",
   "source": [
    "## Varargs functions\n",
    "\n",
    "Functions with a variable number of arguments."
   ],
   "metadata": {}
  },
  {
   "outputs": [
    {
     "output_type": "execute_result",
     "data": {
      "text/plain": "(1, 2, ())"
     },
     "metadata": {},
     "execution_count": 14
    }
   ],
   "cell_type": "code",
   "source": [
    "function bar(a, b, x...)\n",
    "    a, b, x\n",
    "end\n",
    "bar(1, 2)"
   ],
   "metadata": {},
   "execution_count": 14
  },
  {
   "outputs": [
    {
     "output_type": "execute_result",
     "data": {
      "text/plain": "(1, 2, (3,))"
     },
     "metadata": {},
     "execution_count": 15
    }
   ],
   "cell_type": "code",
   "source": [
    "bar(1, 2, 3)"
   ],
   "metadata": {},
   "execution_count": 15
  },
  {
   "outputs": [
    {
     "output_type": "execute_result",
     "data": {
      "text/plain": "(1, 2, (3, 4))"
     },
     "metadata": {},
     "execution_count": 16
    }
   ],
   "cell_type": "code",
   "source": [
    "bar(1, 2, 3, 4)"
   ],
   "metadata": {},
   "execution_count": 16
  },
  {
   "cell_type": "markdown",
   "source": [
    "A similar syntax can be used to splat the values of a collection."
   ],
   "metadata": {}
  },
  {
   "outputs": [
    {
     "output_type": "execute_result",
     "data": {
      "text/plain": "(1, 2, (3, 4))"
     },
     "metadata": {},
     "execution_count": 17
    }
   ],
   "cell_type": "code",
   "source": [
    "extra = (3, 4)\n",
    "bar(1, 2, extra...)"
   ],
   "metadata": {},
   "execution_count": 17
  },
  {
   "outputs": [
    {
     "output_type": "execute_result",
     "data": {
      "text/plain": "(1, 2, (3, 4))"
     },
     "metadata": {},
     "execution_count": 18
    }
   ],
   "cell_type": "code",
   "source": [
    "x = [3, 4]\n",
    "bar(1, 2, x...)"
   ],
   "metadata": {},
   "execution_count": 18
  },
  {
   "cell_type": "markdown",
   "source": [
    "## Function composition and piping\n",
    "\n",
    "Julia can combine functions by composing with the operator `∘`."
   ],
   "metadata": {}
  },
  {
   "outputs": [
    {
     "output_type": "execute_result",
     "data": {
      "text/plain": "3.0"
     },
     "metadata": {},
     "execution_count": 19
    }
   ],
   "cell_type": "code",
   "source": [
    "x = (3, 6)\n",
    "sqrt(sum(x))"
   ],
   "metadata": {},
   "execution_count": 19
  },
  {
   "outputs": [
    {
     "output_type": "execute_result",
     "data": {
      "text/plain": "3.0"
     },
     "metadata": {},
     "execution_count": 20
    }
   ],
   "cell_type": "code",
   "source": [
    "fun = sqrt ∘ sum\n",
    "fun(x)"
   ],
   "metadata": {},
   "execution_count": 20
  },
  {
   "cell_type": "markdown",
   "source": [
    "In the following example we create a function that reverse an \"string\", then obtain the\n",
    "first letter, and finally convert it to capital."
   ],
   "metadata": {}
  },
  {
   "outputs": [
    {
     "output_type": "execute_result",
     "data": {
      "text/plain": "'A': ASCII/Unicode U+0041 (category Lu: Letter, uppercase)"
     },
     "metadata": {},
     "execution_count": 21
    }
   ],
   "cell_type": "code",
   "source": [
    "lastletter = uppercase ∘ first ∘ reverse\n",
    "lastletter(\"julia\")"
   ],
   "metadata": {},
   "execution_count": 21
  },
  {
   "outputs": [
    {
     "output_type": "execute_result",
     "data": {
      "text/plain": "('T', 'S', 'A')"
     },
     "metadata": {},
     "execution_count": 22
    }
   ],
   "cell_type": "code",
   "source": [
    "map(uppercase ∘ first ∘ reverse, (\"It\", \"is\", \"julia\"))"
   ],
   "metadata": {},
   "execution_count": 22
  },
  {
   "cell_type": "markdown",
   "source": [
    "On the other hand, the pipe operator `|>` can be applied to use the output of a function as\n",
    "the input of another function."
   ],
   "metadata": {}
  },
  {
   "outputs": [
    {
     "output_type": "execute_result",
     "data": {
      "text/plain": "3.0"
     },
     "metadata": {},
     "execution_count": 23
    }
   ],
   "cell_type": "code",
   "source": [
    "x |> sum |> sqrt"
   ],
   "metadata": {},
   "execution_count": 23
  },
  {
   "cell_type": "markdown",
   "source": [
    "---\n",
    "\n",
    "*This notebook was generated using [Literate.jl](https://github.com/fredrikekre/Literate.jl).*"
   ],
   "metadata": {}
  }
 ],
 "nbformat_minor": 3,
 "metadata": {
  "language_info": {
   "file_extension": ".jl",
   "mimetype": "application/julia",
   "name": "julia",
   "version": "1.11.1"
  },
  "kernelspec": {
   "name": "julia-1.11",
   "display_name": "Julia 1.11.1",
   "language": "julia"
  }
 },
 "nbformat": 4
}
