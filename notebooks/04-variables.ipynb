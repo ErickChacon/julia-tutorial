{
 "cells": [
  {
   "cell_type": "markdown",
   "source": [
    "# Variables\n",
    "\n",
    "A variable is a name that will be associated to a value through a memory space; these\n",
    "are case-sensitive.\n",
    "\n",
    "## Defining variables\n",
    "\n",
    "Variables are defined and modified using `=`, see some examples below."
   ],
   "metadata": {}
  },
  {
   "outputs": [
    {
     "name": "stdout",
     "output_type": "stream",
     "text": [
      "10 is a Int64"
     ]
    }
   ],
   "cell_type": "code",
   "source": [
    "x = 10\n",
    "print(x, \" is a \", typeof(x))"
   ],
   "metadata": {},
   "execution_count": 1
  },
  {
   "outputs": [
    {
     "name": "stdout",
     "output_type": "stream",
     "text": [
      "10.0 is a Float64"
     ]
    }
   ],
   "cell_type": "code",
   "source": [
    "x = 10.0\n",
    "print(x, \" is a \",  typeof(x))"
   ],
   "metadata": {},
   "execution_count": 2
  },
  {
   "outputs": [
    {
     "name": "stdout",
     "output_type": "stream",
     "text": [
      "Hello World! is a String"
     ]
    }
   ],
   "cell_type": "code",
   "source": [
    "x = \"Hello World!\"\n",
    "print(x, \" is a \",  typeof(x))"
   ],
   "metadata": {},
   "execution_count": 3
  },
  {
   "outputs": [
    {
     "name": "stdout",
     "output_type": "stream",
     "text": [
      "1 + 2im is a Complex{Int64}"
     ]
    }
   ],
   "cell_type": "code",
   "source": [
    "x = 1 + 2im\n",
    "print(x, \" is a \",  typeof(x))"
   ],
   "metadata": {},
   "execution_count": 4
  },
  {
   "outputs": [
    {
     "name": "stdout",
     "output_type": "stream",
     "text": [
      "1//2 is a Rational{Int64}"
     ]
    }
   ],
   "cell_type": "code",
   "source": [
    "x = 1 // 2\n",
    "print(x, \" is a \",  typeof(x))"
   ],
   "metadata": {},
   "execution_count": 5
  },
  {
   "cell_type": "markdown",
   "source": [
    "## Define more than one variable\n",
    "\n",
    "More that one variable can be defined using tuples syntax."
   ],
   "metadata": {}
  },
  {
   "outputs": [
    {
     "name": "stdout",
     "output_type": "stream",
     "text": [
      "1, 10"
     ]
    }
   ],
   "cell_type": "code",
   "source": [
    "(a, b) = (1, 10)\n",
    "print(a, \", \", b)"
   ],
   "metadata": {},
   "execution_count": 6
  },
  {
   "outputs": [
    {
     "name": "stdout",
     "output_type": "stream",
     "text": [
      "1, 10"
     ]
    }
   ],
   "cell_type": "code",
   "source": [
    "a, b = 1, 10\n",
    "print(a, \", \", b)"
   ],
   "metadata": {},
   "execution_count": 7
  },
  {
   "outputs": [
    {
     "name": "stdout",
     "output_type": "stream",
     "text": [
      "1, 10"
     ]
    }
   ],
   "cell_type": "code",
   "source": [
    "(a, b) = 1, 10\n",
    "print(a, \", \", b)"
   ],
   "metadata": {},
   "execution_count": 8
  },
  {
   "outputs": [
    {
     "name": "stdout",
     "output_type": "stream",
     "text": [
      "1, 10"
     ]
    }
   ],
   "cell_type": "code",
   "source": [
    "a, b = (1, 10)\n",
    "print(a, \", \", b)"
   ],
   "metadata": {},
   "execution_count": 9
  },
  {
   "cell_type": "markdown",
   "source": [
    "## Allowed variable names\n",
    "\n",
    "- Unicode names can be used. This helps to write code closer to mathematical equations."
   ],
   "metadata": {}
  },
  {
   "outputs": [
    {
     "name": "stdout",
     "output_type": "stream",
     "text": [
      "0"
     ]
    }
   ],
   "cell_type": "code",
   "source": [
    "μ = 0\n",
    "print(μ)"
   ],
   "metadata": {},
   "execution_count": 10
  },
  {
   "outputs": [
    {
     "name": "stdout",
     "output_type": "stream",
     "text": [
      "3"
     ]
    }
   ],
   "cell_type": "code",
   "source": [
    "σ² = 3\n",
    "print(σ²)"
   ],
   "metadata": {},
   "execution_count": 11
  },
  {
   "outputs": [
    {
     "name": "stdout",
     "output_type": "stream",
     "text": [
      "0.1"
     ]
    }
   ],
   "cell_type": "code",
   "source": [
    "α = 0.1\n",
    "print(α)"
   ],
   "metadata": {},
   "execution_count": 12
  },
  {
   "outputs": [
    {
     "name": "stdout",
     "output_type": "stream",
     "text": [
      "10.0"
     ]
    }
   ],
   "cell_type": "code",
   "source": [
    "β₀ = 10.0\n",
    "print(β₀)"
   ],
   "metadata": {},
   "execution_count": 13
  },
  {
   "cell_type": "markdown",
   "source": [
    "- Built-in constants or functions cannot be replaced after being used.\n",
    "\n",
    "```julia\n",
    "pi; pi = 3\n",
    "# ERROR: cannot assign a value to variable MathConstants.pi from module Main\n",
    "# Stacktrace:\n",
    "#  [1] top-level scope at REPL[95]:1\n",
    "```\n",
    "\n",
    "```julia\n",
    "sqrt(4); sqrt = 4\n",
    "# ERROR: cannot assign a value to variable Base.sqrt from module Main\n",
    "# Stacktrace:\n",
    "#  [1] top-level scope at REPL[97]:1\n",
    "```\n",
    "\n",
    "- Built-in keywords cannot be modify.\n",
    "\n",
    "```julia\n",
    "else = false\n",
    "# ERROR: syntax: unexpected \"else\"\n",
    "# Stacktrace:\n",
    "#  [1] top-level scope at none:1\n",
    "```\n",
    "\n",
    "### Type declaration"
   ],
   "metadata": {}
  },
  {
   "outputs": [
    {
     "output_type": "execute_result",
     "data": {
      "text/plain": "10"
     },
     "metadata": {},
     "execution_count": 14
    }
   ],
   "cell_type": "code",
   "source": [
    "myvariable::Int8 = 10"
   ],
   "metadata": {},
   "execution_count": 14
  },
  {
   "cell_type": "markdown",
   "source": [
    "```julia\n",
    "myvariable = 3.3\n",
    "# ERROR: InexactError: Int8(3.3)\n",
    "```"
   ],
   "metadata": {}
  },
  {
   "cell_type": "markdown",
   "source": [
    "```julia\n",
    "myvariable = \"text\"\n",
    "ERROR: MethodError: Cannot `convert` an object of type String to an object of type Int8\n",
    "```"
   ],
   "metadata": {}
  },
  {
   "cell_type": "markdown",
   "source": [
    "### Some Julia naming conventions\n",
    "\n",
    "- Use lower case for variables, functions, and macros (e.g. `name = \"Julia\"`).\n",
    "- Underscore (`_`) use is discouraged (e.g. `lastname = \"Montalvan\"`).\n",
    "- Use *uper camel case* for `Types` and `Modules`.\n",
    "- Use `!` at the end of a function name when it mutates its arguments."
   ],
   "metadata": {}
  },
  {
   "cell_type": "markdown",
   "source": [
    "---\n",
    "\n",
    "*This notebook was generated using [Literate.jl](https://github.com/fredrikekre/Literate.jl).*"
   ],
   "metadata": {}
  }
 ],
 "nbformat_minor": 3,
 "metadata": {
  "language_info": {
   "file_extension": ".jl",
   "mimetype": "application/julia",
   "name": "julia",
   "version": "1.11.1"
  },
  "kernelspec": {
   "name": "julia-1.11",
   "display_name": "Julia 1.11.1",
   "language": "julia"
  }
 },
 "nbformat": 4
}
