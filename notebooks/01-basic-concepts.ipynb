{
 "cells": [
  {
   "cell_type": "markdown",
   "source": [
    "# Basic concepts\n",
    "\n",
    "- **Values**: Julia can work with different type of values like numbers, characters,\n",
    "strings, so on. Below, we see an example of an string, numeric and complex value."
   ],
   "metadata": {}
  },
  {
   "outputs": [
    {
     "output_type": "execute_result",
     "data": {
      "text/plain": "\"Hello\""
     },
     "metadata": {},
     "execution_count": 1
    }
   ],
   "cell_type": "code",
   "source": [
    "\"Hello\""
   ],
   "metadata": {},
   "execution_count": 1
  },
  {
   "outputs": [
    {
     "output_type": "execute_result",
     "data": {
      "text/plain": "2021"
     },
     "metadata": {},
     "execution_count": 2
    }
   ],
   "cell_type": "code",
   "source": [
    "2021"
   ],
   "metadata": {},
   "execution_count": 2
  },
  {
   "outputs": [
    {
     "output_type": "execute_result",
     "data": {
      "text/plain": "2 + 1im"
     },
     "metadata": {},
     "execution_count": 3
    }
   ],
   "cell_type": "code",
   "source": [
    "2 + 1im"
   ],
   "metadata": {},
   "execution_count": 3
  },
  {
   "cell_type": "markdown",
   "source": [
    "- **Variables**: A value can be assigned to a variable using the equality symbol `=`.\n",
    "Below, the variable `greet` is defined with the assigned value `\"Hello\"`."
   ],
   "metadata": {}
  },
  {
   "outputs": [
    {
     "output_type": "execute_result",
     "data": {
      "text/plain": "\"Hello\""
     },
     "metadata": {},
     "execution_count": 4
    }
   ],
   "cell_type": "code",
   "source": [
    "greet = \"Hello\""
   ],
   "metadata": {},
   "execution_count": 4
  },
  {
   "cell_type": "markdown",
   "source": [
    "- **Functions**: A function is a mapping from a set of argument values to a return\n",
    "value. There are different ways for defining a function. One common way is to start with\n",
    "the `function` key followed by the name of the function with braces, and it finish with\n",
    "the `end` key. The output value can be explicitly defined using the `return` key. See an\n",
    "example below."
   ],
   "metadata": {}
  },
  {
   "outputs": [
    {
     "output_type": "execute_result",
     "data": {
      "text/plain": "greet_name (generic function with 1 method)"
     },
     "metadata": {},
     "execution_count": 5
    }
   ],
   "cell_type": "code",
   "source": [
    "function greet_name(x)\n",
    "    out = \"Hello, \"  * x\n",
    "    return out\n",
    "end"
   ],
   "metadata": {},
   "execution_count": 5
  },
  {
   "outputs": [
    {
     "output_type": "execute_result",
     "data": {
      "text/plain": "\"Hello, Julia\""
     },
     "metadata": {},
     "execution_count": 6
    }
   ],
   "cell_type": "code",
   "source": [
    "greet_name(\"Julia\")"
   ],
   "metadata": {},
   "execution_count": 6
  },
  {
   "cell_type": "markdown",
   "source": [
    "- **Printing**: The most common function to print a text is `print`, while `println` has\n",
    "the same behaviour but adds a newline at the end. We can use `$` to interpolate the\n",
    "value of a variable. You can use braces for expressions (e.g. `$(1 + 1)`). In the\n",
    "example below, variables `who` and `greet` are interpolated in the printed text."
   ],
   "metadata": {}
  },
  {
   "outputs": [
    {
     "name": "stdout",
     "output_type": "stream",
     "text": [
      "Welcome! Hello, Erick!\n"
     ]
    }
   ],
   "cell_type": "code",
   "source": [
    "who = \"Erick\"\n",
    "greet = \"Hello\"\n",
    "println(\"Welcome! $greet, $(who)!\")"
   ],
   "metadata": {},
   "execution_count": 7
  },
  {
   "cell_type": "markdown",
   "source": [
    "---\n",
    "\n",
    "*This notebook was generated using [Literate.jl](https://github.com/fredrikekre/Literate.jl).*"
   ],
   "metadata": {}
  }
 ],
 "nbformat_minor": 3,
 "metadata": {
  "language_info": {
   "file_extension": ".jl",
   "mimetype": "application/julia",
   "name": "julia",
   "version": "1.11.1"
  },
  "kernelspec": {
   "name": "julia-1.11",
   "display_name": "Julia 1.11.1",
   "language": "julia"
  }
 },
 "nbformat": 4
}
